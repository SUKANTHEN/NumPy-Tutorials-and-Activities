{
  "cells": [
    {
      "cell_type": "markdown",
      "metadata": {
        "id": "9MiwxLOcPetj"
      },
      "source": [
        "# Numpy\n",
        "\n"
      ]
    },
    {
      "cell_type": "markdown",
      "metadata": {
        "id": "AcPKkiFfPetq"
      },
      "source": [
        "#### 1. Import the numpy package under the name `np` (★☆☆) \n",
        "(**hint**: import … as …)"
      ]
    },
    {
      "cell_type": "code",
      "execution_count": 1,
      "metadata": {
        "collapsed": true,
        "id": "iUY-yJchPets"
      },
      "outputs": [],
      "source": [
        "import numpy as np"
      ]
    },
    {
      "cell_type": "markdown",
      "metadata": {
        "id": "YQ5HThDXPett"
      },
      "source": [
        "#### 2. Print the numpy version and the configuration (★☆☆) \n",
        "(**hint**: np.\\_\\_version\\_\\_, np.show\\_config)"
      ]
    },
    {
      "cell_type": "code",
      "execution_count": 2,
      "metadata": {
        "colab": {
          "base_uri": "https://localhost:8080/"
        },
        "id": "oa9-JZzRPett",
        "outputId": "2510bd75-7017-40bb-c401-36c2fc008182"
      },
      "outputs": [
        {
          "output_type": "stream",
          "name": "stdout",
          "text": [
            "1.21.5\n",
            "blas_mkl_info:\n",
            "  NOT AVAILABLE\n",
            "blis_info:\n",
            "  NOT AVAILABLE\n",
            "openblas_info:\n",
            "    libraries = ['openblas', 'openblas']\n",
            "    library_dirs = ['/usr/local/lib']\n",
            "    language = c\n",
            "    define_macros = [('HAVE_CBLAS', None)]\n",
            "    runtime_library_dirs = ['/usr/local/lib']\n",
            "blas_opt_info:\n",
            "    libraries = ['openblas', 'openblas']\n",
            "    library_dirs = ['/usr/local/lib']\n",
            "    language = c\n",
            "    define_macros = [('HAVE_CBLAS', None)]\n",
            "    runtime_library_dirs = ['/usr/local/lib']\n",
            "lapack_mkl_info:\n",
            "  NOT AVAILABLE\n",
            "openblas_lapack_info:\n",
            "    libraries = ['openblas', 'openblas']\n",
            "    library_dirs = ['/usr/local/lib']\n",
            "    language = c\n",
            "    define_macros = [('HAVE_CBLAS', None)]\n",
            "    runtime_library_dirs = ['/usr/local/lib']\n",
            "lapack_opt_info:\n",
            "    libraries = ['openblas', 'openblas']\n",
            "    library_dirs = ['/usr/local/lib']\n",
            "    language = c\n",
            "    define_macros = [('HAVE_CBLAS', None)]\n",
            "    runtime_library_dirs = ['/usr/local/lib']\n",
            "Supported SIMD extensions in this NumPy install:\n",
            "    baseline = SSE,SSE2,SSE3\n",
            "    found = SSSE3,SSE41,POPCNT,SSE42,AVX,F16C,FMA3,AVX2\n",
            "    not found = AVX512F,AVX512CD,AVX512_KNL,AVX512_KNM,AVX512_SKX,AVX512_CLX,AVX512_CNL,AVX512_ICL\n",
            "None\n"
          ]
        }
      ],
      "source": [
        "print(np.__version__)\n",
        "print(np.show_config())"
      ]
    },
    {
      "cell_type": "markdown",
      "metadata": {
        "id": "CWf2fxG3Petu"
      },
      "source": [
        "#### 3. Create a null vector of size 10 (★☆☆) \n",
        "\n",
        "(**hint**: np.zeros)"
      ]
    },
    {
      "cell_type": "code",
      "execution_count": 3,
      "metadata": {
        "colab": {
          "base_uri": "https://localhost:8080/"
        },
        "id": "NEHQYTZNPetu",
        "outputId": "b6d047df-f0d0-4b7c-924e-3d3cd91a930d"
      },
      "outputs": [
        {
          "output_type": "stream",
          "name": "stdout",
          "text": [
            "[0. 0. 0. 0. 0. 0. 0. 0. 0. 0.]\n"
          ]
        }
      ],
      "source": [
        "nullVector = np.zeros(10)\n",
        "print(nullVector)"
      ]
    },
    {
      "cell_type": "markdown",
      "metadata": {
        "id": "w1KzsTImPetv"
      },
      "source": [
        "#### 4.  How to find the memory size of any array (★☆☆) \n",
        "(**hint**: size, itemsize)"
      ]
    },
    {
      "cell_type": "code",
      "execution_count": 4,
      "metadata": {
        "colab": {
          "base_uri": "https://localhost:8080/"
        },
        "id": "T0WUCagePetv",
        "outputId": "99ea9428-e3a3-4448-f5c4-e0662347df59"
      },
      "outputs": [
        {
          "output_type": "stream",
          "name": "stdout",
          "text": [
            "8\n",
            "8\n"
          ]
        }
      ],
      "source": [
        "arr = np.array([[1, 2, 3, 4], [5, 6, 7, 8]])\n",
        "print(np.size(arr))\n",
        "print(arr.itemsize)"
      ]
    },
    {
      "cell_type": "markdown",
      "metadata": {
        "id": "5t4TUaY8Petw"
      },
      "source": [
        "#### 5.  How to get the documentation of the numpy add function from the command line? (★☆☆) \n",
        "(**hint**: np.info)"
      ]
    },
    {
      "cell_type": "code",
      "execution_count": 5,
      "metadata": {
        "collapsed": true,
        "colab": {
          "base_uri": "https://localhost:8080/"
        },
        "id": "80a3JO5-Petw",
        "outputId": "497cb301-1654-490f-aafc-74ee14573ab7"
      },
      "outputs": [
        {
          "output_type": "stream",
          "name": "stdout",
          "text": [
            "add(x1, x2, /, out=None, *, where=True, casting='same_kind', order='K', dtype=None, subok=True[, signature, extobj])\n",
            "\n",
            "Add arguments element-wise.\n",
            "\n",
            "Parameters\n",
            "----------\n",
            "x1, x2 : array_like\n",
            "    The arrays to be added.\n",
            "    If ``x1.shape != x2.shape``, they must be broadcastable to a common\n",
            "    shape (which becomes the shape of the output).\n",
            "out : ndarray, None, or tuple of ndarray and None, optional\n",
            "    A location into which the result is stored. If provided, it must have\n",
            "    a shape that the inputs broadcast to. If not provided or None,\n",
            "    a freshly-allocated array is returned. A tuple (possible only as a\n",
            "    keyword argument) must have length equal to the number of outputs.\n",
            "where : array_like, optional\n",
            "    This condition is broadcast over the input. At locations where the\n",
            "    condition is True, the `out` array will be set to the ufunc result.\n",
            "    Elsewhere, the `out` array will retain its original value.\n",
            "    Note that if an uninitialized `out` array is created via the default\n",
            "    ``out=None``, locations within it where the condition is False will\n",
            "    remain uninitialized.\n",
            "**kwargs\n",
            "    For other keyword-only arguments, see the\n",
            "    :ref:`ufunc docs <ufuncs.kwargs>`.\n",
            "\n",
            "Returns\n",
            "-------\n",
            "add : ndarray or scalar\n",
            "    The sum of `x1` and `x2`, element-wise.\n",
            "    This is a scalar if both `x1` and `x2` are scalars.\n",
            "\n",
            "Notes\n",
            "-----\n",
            "Equivalent to `x1` + `x2` in terms of array broadcasting.\n",
            "\n",
            "Examples\n",
            "--------\n",
            ">>> np.add(1.0, 4.0)\n",
            "5.0\n",
            ">>> x1 = np.arange(9.0).reshape((3, 3))\n",
            ">>> x2 = np.arange(3.0)\n",
            ">>> np.add(x1, x2)\n",
            "array([[  0.,   2.,   4.],\n",
            "       [  3.,   5.,   7.],\n",
            "       [  6.,   8.,  10.]])\n",
            "\n",
            "The ``+`` operator can be used as a shorthand for ``np.add`` on ndarrays.\n",
            "\n",
            ">>> x1 = np.arange(9.0).reshape((3, 3))\n",
            ">>> x2 = np.arange(3.0)\n",
            ">>> x1 + x2\n",
            "array([[ 0.,  2.,  4.],\n",
            "       [ 3.,  5.,  7.],\n",
            "       [ 6.,  8., 10.]])\n",
            "None\n"
          ]
        }
      ],
      "source": [
        "print(np.info(np.add))"
      ]
    },
    {
      "cell_type": "markdown",
      "metadata": {
        "id": "8G9H0vkLPetw"
      },
      "source": [
        "#### 6.  Create a null vector of size 10 but the fifth value which is 1 (★☆☆) \n",
        "(**hint**: array\\[4\\])"
      ]
    },
    {
      "cell_type": "code",
      "execution_count": 6,
      "metadata": {
        "colab": {
          "base_uri": "https://localhost:8080/"
        },
        "id": "lH8VoLbOPetx",
        "outputId": "3fadee94-9fb6-4ac5-e48b-3b7e523a5ed0"
      },
      "outputs": [
        {
          "output_type": "stream",
          "name": "stdout",
          "text": [
            "[0. 0. 0. 0. 0. 0. 0. 0. 0. 0.]\n",
            "[ 0.  0.  0.  0. 11.  0.  0.  0.  0.  0.]\n"
          ]
        }
      ],
      "source": [
        "vector = np.zeros(10)\n",
        "print(vector)\n",
        "vector[4] = 11\n",
        "print(vector)"
      ]
    },
    {
      "cell_type": "markdown",
      "metadata": {
        "id": "XIDwOLT7Petx"
      },
      "source": [
        "#### 7.  Create a vector with values ranging from 10 to 49 (★☆☆) \n",
        "(**hint**: np.arange)"
      ]
    },
    {
      "cell_type": "code",
      "execution_count": 7,
      "metadata": {
        "colab": {
          "base_uri": "https://localhost:8080/"
        },
        "id": "6AVt_JuRPetx",
        "outputId": "5498e275-7d28-4bf0-aa54-373f9158fd61"
      },
      "outputs": [
        {
          "output_type": "execute_result",
          "data": {
            "text/plain": [
              "array([10, 11, 12, 13, 14, 15, 16, 17, 18, 19, 20, 21, 22, 23, 24, 25, 26,\n",
              "       27, 28, 29, 30, 31, 32, 33, 34, 35, 36, 37, 38, 39, 40, 41, 42, 43,\n",
              "       44, 45, 46, 47, 48, 49])"
            ]
          },
          "metadata": {},
          "execution_count": 7
        }
      ],
      "source": [
        "arr = np.arange(10,50)\n",
        "arr"
      ]
    },
    {
      "cell_type": "markdown",
      "metadata": {
        "id": "rOr683yCPety"
      },
      "source": [
        "#### 8.  Reverse a vector (first element becomes last) (★☆☆) \n",
        "(**hint**: array\\[::-1\\])"
      ]
    },
    {
      "cell_type": "code",
      "execution_count": 8,
      "metadata": {
        "colab": {
          "base_uri": "https://localhost:8080/"
        },
        "id": "y_hfTzGcPety",
        "outputId": "6765946b-954e-4d9b-d248-59f9e70212e5"
      },
      "outputs": [
        {
          "output_type": "stream",
          "name": "stdout",
          "text": [
            "[6 5 4 3 2 1]\n"
          ]
        }
      ],
      "source": [
        "arr = np.array([1,2,3,4,5,6])\n",
        "print(arr[::-1])"
      ]
    },
    {
      "cell_type": "markdown",
      "metadata": {
        "id": "gLNrp7X4Pety"
      },
      "source": [
        "#### 9.  Create a 3x3 matrix with values ranging from 0 to 8 (★☆☆) \n",
        "(**hint**: reshape)"
      ]
    },
    {
      "cell_type": "code",
      "execution_count": 9,
      "metadata": {
        "colab": {
          "base_uri": "https://localhost:8080/"
        },
        "id": "kDuc9wdyPety",
        "outputId": "159c6f94-e07d-4d27-e515-499b838e7f32"
      },
      "outputs": [
        {
          "output_type": "stream",
          "name": "stdout",
          "text": [
            "[[0 1 2]\n",
            " [3 4 5]\n",
            " [6 7 8]]\n"
          ]
        }
      ],
      "source": [
        "arr = np.arange(0,9).reshape(3,3)\n",
        "print(arr)"
      ]
    },
    {
      "cell_type": "markdown",
      "metadata": {
        "id": "ljG7lCH6Petz"
      },
      "source": [
        "#### 10. Find indices of non-zero elements from \\[1,2,0,0,4,0\\] (★☆☆) \n",
        "(**hint**: np.nonzero)"
      ]
    },
    {
      "cell_type": "code",
      "execution_count": 10,
      "metadata": {
        "colab": {
          "base_uri": "https://localhost:8080/"
        },
        "id": "fp5usY9APetz",
        "outputId": "c36f79ef-e24f-4509-deb0-51bd7ea4eed6"
      },
      "outputs": [
        {
          "output_type": "stream",
          "name": "stdout",
          "text": [
            "(array([0, 1, 4]),)\n"
          ]
        }
      ],
      "source": [
        "arr = np.array([1,2,0,0,4,0])\n",
        "print(np.nonzero(arr))"
      ]
    },
    {
      "cell_type": "markdown",
      "metadata": {
        "id": "f2g4bjY_Petz"
      },
      "source": [
        "#### 11. Create a 3x3 identity matrix (★☆☆) \n",
        "(**hint**: np.eye)"
      ]
    },
    {
      "cell_type": "code",
      "execution_count": 11,
      "metadata": {
        "colab": {
          "base_uri": "https://localhost:8080/"
        },
        "id": "UCX_znrvPetz",
        "outputId": "bf24fad3-c2a2-4ccd-f4e2-65f68794e006"
      },
      "outputs": [
        {
          "output_type": "stream",
          "name": "stdout",
          "text": [
            "[[1. 0. 0.]\n",
            " [0. 1. 0.]\n",
            " [0. 0. 1.]]\n"
          ]
        }
      ],
      "source": [
        "print(np.identity(3))"
      ]
    },
    {
      "cell_type": "markdown",
      "metadata": {
        "id": "mQIGzjhEPetz"
      },
      "source": [
        "#### 12. Create a 3x3x3 array with random values (★☆☆) \n",
        "(**hint**: np.random.random)"
      ]
    },
    {
      "cell_type": "code",
      "execution_count": 12,
      "metadata": {
        "collapsed": true,
        "colab": {
          "base_uri": "https://localhost:8080/"
        },
        "id": "tH9d1SSNPet0",
        "outputId": "6000de17-6612-439b-ec57-8a5a076a53f2"
      },
      "outputs": [
        {
          "output_type": "stream",
          "name": "stdout",
          "text": [
            "[[[0.70352752 0.14067557 0.13496018]\n",
            "  [0.50481832 0.22385223 0.87399778]\n",
            "  [0.53355715 0.94051854 0.77733861]]\n",
            "\n",
            " [[0.24304421 0.99947969 0.43902665]\n",
            "  [0.06518249 0.38435714 0.09498567]\n",
            "  [0.79318368 0.18503801 0.54442316]]\n",
            "\n",
            " [[0.33272526 0.75836562 0.8650766 ]\n",
            "  [0.39002212 0.37850314 0.44557016]\n",
            "  [0.46279221 0.9757823  0.44152914]]]\n"
          ]
        }
      ],
      "source": [
        "arr = np.random.random((3,3,3))\n",
        "print(arr)"
      ]
    },
    {
      "cell_type": "markdown",
      "metadata": {
        "id": "60qpBmcfPet0"
      },
      "source": [
        "#### 13. Create a 10x10 array with random values and find the minimum and maximum values (★☆☆) \n",
        "(**hint**: min, max)"
      ]
    },
    {
      "cell_type": "code",
      "execution_count": 13,
      "metadata": {
        "colab": {
          "base_uri": "https://localhost:8080/"
        },
        "id": "ky74AtFePet0",
        "outputId": "52526fd7-852e-407a-bec6-b0b6be8ec5b7"
      },
      "outputs": [
        {
          "output_type": "stream",
          "name": "stdout",
          "text": [
            "[[0.98707519 0.03309251 0.03658401 0.16631544 0.85988672 0.37726142\n",
            "  0.6593004  0.86259758 0.30501918 0.86088486]\n",
            " [0.20136514 0.01448316 0.06520799 0.33746747 0.40078119 0.46179664\n",
            "  0.24847395 0.37262229 0.75822255 0.88053435]\n",
            " [0.6884969  0.95608381 0.67930422 0.77460374 0.85167642 0.94580819\n",
            "  0.41366766 0.15590114 0.04792579 0.53453195]\n",
            " [0.041766   0.09634706 0.30674474 0.41993578 0.24199949 0.75637388\n",
            "  0.72332783 0.44626501 0.26505957 0.06503404]\n",
            " [0.39675573 0.93038732 0.85553227 0.29359565 0.30205745 0.68975445\n",
            "  0.98682983 0.37181788 0.11263729 0.66903805]\n",
            " [0.25530239 0.39367623 0.72316189 0.18408327 0.99965677 0.03629728\n",
            "  0.9644506  0.4779896  0.29594201 0.1966142 ]\n",
            " [0.35721977 0.95665173 0.25479773 0.19115963 0.95365199 0.61297039\n",
            "  0.00631972 0.81149452 0.16805651 0.80041893]\n",
            " [0.09049988 0.26676968 0.3050155  0.02281858 0.6340002  0.40047258\n",
            "  0.76543429 0.54182758 0.90968614 0.86979646]\n",
            " [0.90386345 0.91858899 0.56233878 0.37742864 0.99395377 0.81321894\n",
            "  0.8499486  0.41094696 0.40600495 0.93157742]\n",
            " [0.93668921 0.38170357 0.87788812 0.95032028 0.75523333 0.19698945\n",
            "  0.20406117 0.51579433 0.53926461 0.27213867]]\n",
            "0.9996567664582776 0.006319723525909149\n"
          ]
        }
      ],
      "source": [
        "arr = np.random.random((10,10))\n",
        "print(arr)\n",
        "print(arr.max(),arr.min())"
      ]
    },
    {
      "cell_type": "markdown",
      "metadata": {
        "id": "xLI1oibuPet0"
      },
      "source": [
        "#### 14. Create a random vector of size 30 and find the mean value (★☆☆) \n",
        "(**hint**: mean)"
      ]
    },
    {
      "cell_type": "code",
      "execution_count": 14,
      "metadata": {
        "colab": {
          "base_uri": "https://localhost:8080/"
        },
        "id": "tOViJFW3Pet0",
        "outputId": "a4b54009-b42d-4fe2-cbaf-4cbfbb1358dd"
      },
      "outputs": [
        {
          "output_type": "stream",
          "name": "stdout",
          "text": [
            "[0.70786568 0.71657073 0.2573814  0.59454171 0.65700185 0.52307485\n",
            " 0.09357172 0.71858996 0.48470099 0.71858919 0.82418615 0.16405178\n",
            " 0.11609376 0.77924256 0.81222646 0.30882867 0.86449806 0.14554727\n",
            " 0.0106411  0.90001979 0.9217689  0.29341223 0.62716268 0.18658737\n",
            " 0.90549717 0.11710854 0.9078049  0.09572277 0.84912695 0.47121507]\n",
            "0.5257543414934822\n"
          ]
        }
      ],
      "source": [
        "arr = np.random.random(30)\n",
        "print(arr)\n",
        "print(np.mean(arr))"
      ]
    },
    {
      "cell_type": "markdown",
      "metadata": {
        "id": "n9jT06VzPet0"
      },
      "source": [
        "#### 15. Create a 2d array with 1 on the border and 0 inside (★☆☆) \n",
        "(**hint**: array\\[1:-1, 1:-1\\])"
      ]
    },
    {
      "cell_type": "code",
      "execution_count": 15,
      "metadata": {
        "colab": {
          "base_uri": "https://localhost:8080/"
        },
        "id": "RTuhjwmcPet0",
        "outputId": "cc141b3e-e6d4-4fd3-8cd6-bbfca2df4a5f"
      },
      "outputs": [
        {
          "output_type": "stream",
          "name": "stdout",
          "text": [
            "[[1. 1. 1. 1.]\n",
            " [1. 1. 1. 1.]\n",
            " [1. 1. 1. 1.]\n",
            " [1. 1. 1. 1.]]\n",
            "New Array with 1 on the border and O inside\n",
            "[[1. 1. 1. 1.]\n",
            " [1. 0. 0. 1.]\n",
            " [1. 0. 0. 1.]\n",
            " [1. 1. 1. 1.]]\n"
          ]
        }
      ],
      "source": [
        "x = np.ones((4,4))\n",
        "print(x)\n",
        "print(\"New Array with 1 on the border and O inside\")\n",
        "x[1:-1,1:-1] = 0\n",
        "print(x)"
      ]
    },
    {
      "cell_type": "markdown",
      "metadata": {
        "id": "07xa6VHgPet0"
      },
      "source": [
        "#### 16. How to add a border (filled with 0's) around an existing array? (★☆☆) \n",
        "(**hint**: np.pad)"
      ]
    },
    {
      "cell_type": "code",
      "execution_count": 16,
      "metadata": {
        "colab": {
          "base_uri": "https://localhost:8080/"
        },
        "id": "zPU_bhu9Pet1",
        "outputId": "9c1fc697-f821-42a3-a1dd-beaab13b41ff"
      },
      "outputs": [
        {
          "output_type": "stream",
          "name": "stdout",
          "text": [
            "[[0. 0. 0. 0. 0.]\n",
            " [0. 1. 1. 1. 0.]\n",
            " [0. 1. 1. 1. 0.]\n",
            " [0. 1. 1. 1. 0.]\n",
            " [0. 0. 0. 0. 0.]]\n"
          ]
        }
      ],
      "source": [
        "x = np.ones((3,3))\n",
        "x = np.pad(x, pad_width=1, mode='constant', constant_values=0)\n",
        "print(x)"
      ]
    },
    {
      "cell_type": "markdown",
      "metadata": {
        "id": "2ckJ3ylXPet1"
      },
      "source": [
        "#### 17. What is the result of the following expression? (★☆☆) \n",
        "(**hint**: NaN = not a number, inf = infinity)"
      ]
    },
    {
      "cell_type": "markdown",
      "metadata": {
        "id": "yyapdXzuPet1"
      },
      "source": [
        "```python\n",
        "0 * np.nan\n",
        "np.nan == np.nan\n",
        "np.inf > np.nan\n",
        "np.nan - np.nan\n",
        "0.3 == 3 * 0.1\n",
        "```"
      ]
    },
    {
      "cell_type": "code",
      "execution_count": 17,
      "metadata": {
        "colab": {
          "base_uri": "https://localhost:8080/"
        },
        "id": "3mpSn_sEPet1",
        "outputId": "dbee0a7d-a807-4e17-938e-52ac9921d629"
      },
      "outputs": [
        {
          "output_type": "stream",
          "name": "stdout",
          "text": [
            "0 * np.nan : nan\n",
            "np.nan == np.nan : False\n",
            "np.inf > np.nan : False\n",
            "np.nan-np.nan : nan\n",
            "0.3 == 3 * 0.1 : False\n"
          ]
        }
      ],
      "source": [
        "print(\"0 * np.nan :\",0*np.nan)\n",
        "print(\"np.nan == np.nan :\",np.nan == np.nan)\n",
        "print(\"np.inf > np.nan :\",np.inf > np.nan)\n",
        "print(\"np.nan-np.nan :\",np.nan-np.nan)\n",
        "print(\"0.3 == 3 * 0.1 :\",0.3 == 3 * 0.1)"
      ]
    },
    {
      "cell_type": "markdown",
      "metadata": {
        "id": "oM4h1iVyPet1"
      },
      "source": [
        "#### 18. Create a 5x5 matrix with values 1,2,3,4 just below the diagonal (★☆☆) \n",
        "(**hint**: np.diag)"
      ]
    },
    {
      "cell_type": "code",
      "execution_count": 18,
      "metadata": {
        "id": "fiwqzY19Pet2",
        "colab": {
          "base_uri": "https://localhost:8080/"
        },
        "outputId": "05d25f20-c857-4559-f5a3-9857366a2875"
      },
      "outputs": [
        {
          "output_type": "execute_result",
          "data": {
            "text/plain": [
              "array([[1, 0, 0, 0, 0],\n",
              "       [0, 2, 0, 0, 0],\n",
              "       [0, 0, 3, 0, 0],\n",
              "       [0, 0, 0, 4, 0],\n",
              "       [0, 0, 0, 0, 5]])"
            ]
          },
          "metadata": {},
          "execution_count": 18
        }
      ],
      "source": [
        "arr = np.diag([1,2,3,4,5])\n",
        "arr"
      ]
    },
    {
      "cell_type": "markdown",
      "metadata": {
        "id": "f41bRicoPet2"
      },
      "source": [
        "#### 19. Create a 8x8 matrix and fill it with a checkerboard pattern (★☆☆) \n",
        "(**hint**: array\\[::2\\])"
      ]
    },
    {
      "cell_type": "code",
      "execution_count": 19,
      "metadata": {
        "id": "Ira22oU7Pet2",
        "colab": {
          "base_uri": "https://localhost:8080/"
        },
        "outputId": "e11bc812-e0f3-4609-e950-d7a9605d2789"
      },
      "outputs": [
        {
          "output_type": "stream",
          "name": "stdout",
          "text": [
            "[[0 1 0 1 0 1 0 1]\n",
            " [1 0 1 0 1 0 1 0]\n",
            " [0 1 0 1 0 1 0 1]\n",
            " [1 0 1 0 1 0 1 0]\n",
            " [0 1 0 1 0 1 0 1]\n",
            " [1 0 1 0 1 0 1 0]\n",
            " [0 1 0 1 0 1 0 1]\n",
            " [1 0 1 0 1 0 1 0]]\n"
          ]
        }
      ],
      "source": [
        "x = np.ones((3,3))\n",
        "x = np.zeros((8,8),dtype=int)\n",
        "# Creating CheckerBoard Pattern\n",
        "x[1::2,::2] = 1\n",
        "x[::2,1::2] = 1\n",
        "print(x)"
      ]
    },
    {
      "cell_type": "markdown",
      "metadata": {
        "id": "Sh3h0vKLPet2"
      },
      "source": [
        "#### 20. Consider a (6,7,8) shape array, what is the index (x,y,z) of the 100th element? \n",
        "(**hint**: np.unravel_index)"
      ]
    },
    {
      "cell_type": "code",
      "execution_count": 20,
      "metadata": {
        "id": "KEyfC1tVPet2",
        "colab": {
          "base_uri": "https://localhost:8080/"
        },
        "outputId": "1a110b5e-195c-43e0-dd7b-72e28293436c"
      },
      "outputs": [
        {
          "output_type": "stream",
          "name": "stdout",
          "text": [
            "(1, 5, 4)\n"
          ]
        }
      ],
      "source": [
        "print(np.unravel_index(100, (6,7,8)))"
      ]
    },
    {
      "cell_type": "markdown",
      "metadata": {
        "id": "z0sFYbSjPet2"
      },
      "source": [
        "#### 21. Create a checkerboard 8x8 matrix using the tile function (★☆☆) \n",
        "(**hint**: np.tile)"
      ]
    },
    {
      "cell_type": "code",
      "execution_count": 21,
      "metadata": {
        "id": "zjlQ-oxHPet2",
        "colab": {
          "base_uri": "https://localhost:8080/"
        },
        "outputId": "1ead5be3-407c-4cb3-d06a-ae24933303dc"
      },
      "outputs": [
        {
          "output_type": "stream",
          "name": "stdout",
          "text": [
            "[[0 1 0 1 0 1 0 1]\n",
            " [1 0 1 0 1 0 1 0]\n",
            " [0 1 0 1 0 1 0 1]\n",
            " [1 0 1 0 1 0 1 0]\n",
            " [0 1 0 1 0 1 0 1]\n",
            " [1 0 1 0 1 0 1 0]\n",
            " [0 1 0 1 0 1 0 1]\n",
            " [1 0 1 0 1 0 1 0]]\n"
          ]
        }
      ],
      "source": [
        "array= np.array([[0,1], [1,0]])\n",
        "arr = np.tile(array,(4,4))\n",
        "print(arr)"
      ]
    },
    {
      "cell_type": "markdown",
      "metadata": {
        "id": "BtEryrZNPet3"
      },
      "source": [
        "#### 22. Normalize a 5x5 random matrix (★☆☆) \n",
        "(**hint**: (x - min) / (max - min))"
      ]
    },
    {
      "cell_type": "code",
      "execution_count": 22,
      "metadata": {
        "id": "K7PNrERDPet3",
        "colab": {
          "base_uri": "https://localhost:8080/"
        },
        "outputId": "74fb2900-263c-43bc-abd1-a2d34cb6f464"
      },
      "outputs": [
        {
          "output_type": "stream",
          "name": "stdout",
          "text": [
            "[[0.92301891 0.10325946 0.99980953 0.48762778 0.        ]\n",
            " [0.21377077 0.09040852 0.271117   0.82094544 0.53110166]\n",
            " [0.34163727 0.64932115 0.99723434 0.23459817 0.6923663 ]\n",
            " [0.80811336 0.39912767 0.91362734 1.         0.65737596]\n",
            " [0.9119221  0.68986075 0.02872653 0.28609938 0.16106683]]\n"
          ]
        }
      ],
      "source": [
        "arr = np.random.random((5,5))\n",
        "arrmax, arrmin = arr.max(), arr.min()\n",
        "Z=(arr-arrmin)/(arrmax-arrmin)\n",
        "print(Z)"
      ]
    },
    {
      "cell_type": "markdown",
      "metadata": {
        "id": "BF4pyUbzPet3"
      },
      "source": [
        "#### 23. Create a custom dtype that describes a color as four unsigned bytes (RGBA) (★☆☆) \n",
        "(**hint**: np.dtype)"
      ]
    },
    {
      "cell_type": "code",
      "execution_count": 23,
      "metadata": {
        "collapsed": true,
        "id": "P8-whl4nPet3",
        "colab": {
          "base_uri": "https://localhost:8080/"
        },
        "outputId": "ba8cba40-63b4-4bcc-9a2d-0b22f544f9f0"
      },
      "outputs": [
        {
          "output_type": "stream",
          "name": "stdout",
          "text": [
            "[('r', 'u1'), ('g', 'u1'), ('b', 'u1'), ('a', 'u1')]\n"
          ]
        },
        {
          "output_type": "stream",
          "name": "stderr",
          "text": [
            "/usr/local/lib/python3.7/dist-packages/ipykernel_launcher.py:1: FutureWarning: Passing (type, 1) or '1type' as a synonym of type is deprecated; in a future version of numpy, it will be understood as (type, (1,)) / '(1,)type'.\n",
            "  \"\"\"Entry point for launching an IPython kernel.\n"
          ]
        }
      ],
      "source": [
        "color = np.dtype([(\"r\", np.ubyte, 1),(\"g\", np.ubyte, 1),(\"b\", np.ubyte, 1),(\"a\", np.ubyte, 1)])\n",
        "print(color)"
      ]
    },
    {
      "cell_type": "markdown",
      "metadata": {
        "id": "TilnBjJHPet3"
      },
      "source": [
        "#### 24. Multiply a 5x3 matrix by a 3x2 matrix (real matrix product) (★☆☆) \n",
        "(**hint**: np.dot | @)"
      ]
    },
    {
      "cell_type": "code",
      "execution_count": 24,
      "metadata": {
        "id": "tnT6DqOIPet3",
        "colab": {
          "base_uri": "https://localhost:8080/"
        },
        "outputId": "816bba0f-42f5-43be-8a30-9cfa57a2b643"
      },
      "outputs": [
        {
          "output_type": "stream",
          "name": "stdout",
          "text": [
            "[[3. 3.]\n",
            " [3. 3.]\n",
            " [3. 3.]\n",
            " [3. 3.]\n",
            " [3. 3.]]\n"
          ]
        }
      ],
      "source": [
        "arr = np.dot(np.ones((5,3)), np.ones((3,2)))\n",
        "print(arr)"
      ]
    },
    {
      "cell_type": "markdown",
      "metadata": {
        "id": "uoW7zghfPet3"
      },
      "source": [
        "#### 25. Given a 1D array, negate all elements which are between 3 and 8, in place. (★☆☆) \n",
        "(**hint**: >, <=)"
      ]
    },
    {
      "cell_type": "code",
      "execution_count": 25,
      "metadata": {
        "id": "0FqPfo5OPet3",
        "colab": {
          "base_uri": "https://localhost:8080/"
        },
        "outputId": "1a1b85d4-f2a0-45ac-85b8-bbdc8336dd4a"
      },
      "outputs": [
        {
          "output_type": "stream",
          "name": "stdout",
          "text": [
            "[ 0  1  2  3 -4 -5 -6 -7 -8  9 10]\n"
          ]
        }
      ],
      "source": [
        "Z = np.arange(11)\n",
        "Z[(3 < Z) & (Z <= 8)] *= -1\n",
        "print(Z)"
      ]
    },
    {
      "cell_type": "markdown",
      "metadata": {
        "id": "uDUSp73vPet4"
      },
      "source": [
        "#### 26. What is the output of the following script? (★☆☆) \n",
        "(**hint**: np.sum)"
      ]
    },
    {
      "cell_type": "markdown",
      "metadata": {
        "id": "If6jwSRlPet4"
      },
      "source": [
        "```python\n",
        "# Author: Jake VanderPlas\n",
        "\n",
        "print(sum(range(5),-1))\n",
        "from numpy import *\n",
        "print(sum(range(5),-1))\n",
        "```"
      ]
    },
    {
      "cell_type": "code",
      "execution_count": 26,
      "metadata": {
        "id": "ndu-DokOPet4",
        "colab": {
          "base_uri": "https://localhost:8080/"
        },
        "outputId": "6ff598f7-7a64-4cfd-ae51-f76f3b48fc03"
      },
      "outputs": [
        {
          "output_type": "stream",
          "name": "stdout",
          "text": [
            "10\n"
          ]
        }
      ],
      "source": [
        "#print(sum(range(5),-1))\n",
        "from numpy import *\n",
        "print(sum(range(5),-1))"
      ]
    },
    {
      "cell_type": "markdown",
      "metadata": {
        "id": "AEOwyr-JPet4"
      },
      "source": [
        "#### 27. Consider an integer vector Z, which of these expressions are legal? (★☆☆)"
      ]
    },
    {
      "cell_type": "markdown",
      "metadata": {
        "id": "yR3ORw_JPet4"
      },
      "source": [
        "```python\n",
        "Z**Z\n",
        "2 << Z >> 2\n",
        "Z <- Z\n",
        "1j*Z\n",
        "Z/1/1\n",
        "Z<Z>Z\n",
        "```"
      ]
    },
    {
      "cell_type": "code",
      "execution_count": 27,
      "metadata": {
        "id": "AAbQRjFvPet4",
        "colab": {
          "base_uri": "https://localhost:8080/"
        },
        "outputId": "62b02191-6bfc-4c40-91c0-fd52af259786"
      },
      "outputs": [
        {
          "output_type": "execute_result",
          "data": {
            "text/plain": [
              "array([ 0.,  1.,  2.,  3., -4., -5., -6., -7., -8.,  9., 10.])"
            ]
          },
          "metadata": {},
          "execution_count": 27
        }
      ],
      "source": [
        "#Z**Z\n",
        "2 << Z >> 2\n",
        "Z <- Z\n",
        "1j*Z\n",
        "Z/1/1\n",
        "#Z<Z>Z\n",
        "# The commented ones are not legal"
      ]
    },
    {
      "cell_type": "markdown",
      "metadata": {
        "id": "kdUkzXkdPet4"
      },
      "source": [
        "#### 28. What are the result of the following expressions?"
      ]
    },
    {
      "cell_type": "markdown",
      "metadata": {
        "id": "zLTSg5eUPet5"
      },
      "source": [
        "```python\n",
        "np.array(0) / np.array(0)\n",
        "np.array(0) // np.array(0)\n",
        "np.array([np.nan]).astype(int).astype(float)\n",
        "```"
      ]
    },
    {
      "cell_type": "code",
      "execution_count": 28,
      "metadata": {
        "id": "IbHFIMtrPet5",
        "colab": {
          "base_uri": "https://localhost:8080/"
        },
        "outputId": "d6fa4f0a-7250-4cf0-deb1-bd68ea4cd9b6"
      },
      "outputs": [
        {
          "output_type": "stream",
          "name": "stdout",
          "text": [
            "nan\n",
            "0\n",
            "[-9.22337204e+18]\n"
          ]
        },
        {
          "output_type": "stream",
          "name": "stderr",
          "text": [
            "/usr/local/lib/python3.7/dist-packages/ipykernel_launcher.py:1: RuntimeWarning: invalid value encountered in true_divide\n",
            "  \"\"\"Entry point for launching an IPython kernel.\n",
            "/usr/local/lib/python3.7/dist-packages/ipykernel_launcher.py:2: RuntimeWarning: divide by zero encountered in floor_divide\n",
            "  \n"
          ]
        }
      ],
      "source": [
        "print(np.array(0) / np.array(0))\n",
        "print(np.array(0) // np.array(0))\n",
        "print(np.array([np.nan]).astype(int).astype(float))"
      ]
    },
    {
      "cell_type": "markdown",
      "metadata": {
        "id": "mGP6Bp6HPet5"
      },
      "source": [
        "#### 29. How to round away from zero a float array ? (★☆☆) \n",
        "(**hint**: np.uniform, np.copysign, np.ceil, np.abs)"
      ]
    },
    {
      "cell_type": "code",
      "execution_count": 29,
      "metadata": {
        "id": "mMIZex1lPet5",
        "colab": {
          "base_uri": "https://localhost:8080/"
        },
        "outputId": "91fbbd43-a621-4aa0-f248-ca9b23021dd4"
      },
      "outputs": [
        {
          "output_type": "stream",
          "name": "stdout",
          "text": [
            "[-5. -6.  7. -4. -8. -1. -1. -8.  1.  4.]\n"
          ]
        }
      ],
      "source": [
        "Z = np.random.uniform(-10,+10,10)\n",
        "print (np.copysign(np.ceil(np.abs(Z)), Z))"
      ]
    },
    {
      "cell_type": "markdown",
      "metadata": {
        "id": "foGBqTBSPet5"
      },
      "source": [
        "#### 30. How to find common values between two arrays? (★☆☆) \n",
        "(**hint**: np.intersect1d)"
      ]
    },
    {
      "cell_type": "code",
      "execution_count": 30,
      "metadata": {
        "id": "qD_Dm_gLPet5",
        "colab": {
          "base_uri": "https://localhost:8080/"
        },
        "outputId": "f7dc2a66-3090-41e0-a543-f9203e5934f9"
      },
      "outputs": [
        {
          "output_type": "stream",
          "name": "stdout",
          "text": [
            "[0 2 7 8 9]\n"
          ]
        }
      ],
      "source": [
        "arr1 = np.random.randint(0,10,10)\n",
        "arr2 = np.random.randint(0,10,10)\n",
        "print(np.intersect1d(arr1,arr2))"
      ]
    },
    {
      "cell_type": "markdown",
      "metadata": {
        "id": "EoDjMC2XPet5"
      },
      "source": [
        "#### 31. How to ignore all numpy warnings (not recommended)? (★☆☆) \n",
        "(**hint**: np.seterr, np.errstate)"
      ]
    },
    {
      "cell_type": "code",
      "execution_count": 31,
      "metadata": {
        "id": "VYolv4C2Pet6",
        "colab": {
          "base_uri": "https://localhost:8080/"
        },
        "outputId": "5d8728f8-8197-4b43-a3d6-4bbaa839e240"
      },
      "outputs": [
        {
          "output_type": "execute_result",
          "data": {
            "text/plain": [
              "array([inf])"
            ]
          },
          "metadata": {},
          "execution_count": 31
        }
      ],
      "source": [
        "defaults = np.seterr(all=\"ignore\")\n",
        "arr = np.ones(1) / 0\n",
        "arr"
      ]
    },
    {
      "cell_type": "markdown",
      "metadata": {
        "id": "ge-XKqMcPet6"
      },
      "source": [
        "#### 32. Is the following expressions true? (★☆☆) \n",
        "(**hint**: imaginary number)"
      ]
    },
    {
      "cell_type": "markdown",
      "metadata": {
        "id": "fNMTh2ljPet6"
      },
      "source": [
        "```python\n",
        "np.sqrt(-1) == np.emath.sqrt(-1)\n",
        "```"
      ]
    },
    {
      "cell_type": "code",
      "execution_count": 32,
      "metadata": {
        "id": "DedrUolgPet6",
        "colab": {
          "base_uri": "https://localhost:8080/"
        },
        "outputId": "d2d8237f-f3e0-4a9c-83fb-bf74c46a4138"
      },
      "outputs": [
        {
          "output_type": "execute_result",
          "data": {
            "text/plain": [
              "False"
            ]
          },
          "metadata": {},
          "execution_count": 32
        }
      ],
      "source": [
        "np.sqrt(-1) == np.emath.sqrt(-1)"
      ]
    },
    {
      "cell_type": "markdown",
      "metadata": {
        "id": "2QRDoXKnPet6"
      },
      "source": [
        "#### 33. How to get the dates of yesterday, today and tomorrow? (★☆☆) \n",
        "(**hint**: np.datetime64, np.timedelta64)"
      ]
    },
    {
      "cell_type": "code",
      "execution_count": 33,
      "metadata": {
        "collapsed": true,
        "id": "-c25mKi0Pet6",
        "colab": {
          "base_uri": "https://localhost:8080/"
        },
        "outputId": "7f88a2a5-b2f9-4179-add5-e8771ad581b3"
      },
      "outputs": [
        {
          "output_type": "stream",
          "name": "stdout",
          "text": [
            "2022-03-25 2022-03-24 2022-03-26\n"
          ]
        }
      ],
      "source": [
        "today     = np.datetime64('today', 'D')\n",
        "yesterday = np.datetime64('today', 'D') - np.timedelta64(1, 'D')\n",
        "tomorrow  = np.datetime64('today', 'D') + np.timedelta64(1, 'D')\n",
        "print(today,yesterday,tomorrow)"
      ]
    },
    {
      "cell_type": "markdown",
      "metadata": {
        "id": "S-djGBZIPet6"
      },
      "source": [
        "#### 34. How to get all the dates corresponding to the month of July 2016? (★★☆) \n",
        "(**hint**: np.arange(dtype=datetime64\\['D'\\]))"
      ]
    },
    {
      "cell_type": "code",
      "execution_count": 34,
      "metadata": {
        "id": "v3aidBOOPet6",
        "colab": {
          "base_uri": "https://localhost:8080/"
        },
        "outputId": "19b3f547-81d5-4b6b-8e01-27b531aeecaa"
      },
      "outputs": [
        {
          "output_type": "stream",
          "name": "stdout",
          "text": [
            "['2016-07-01' '2016-07-02' '2016-07-03' '2016-07-04' '2016-07-05'\n",
            " '2016-07-06' '2016-07-07' '2016-07-08' '2016-07-09' '2016-07-10'\n",
            " '2016-07-11' '2016-07-12' '2016-07-13' '2016-07-14' '2016-07-15'\n",
            " '2016-07-16' '2016-07-17' '2016-07-18' '2016-07-19' '2016-07-20'\n",
            " '2016-07-21' '2016-07-22' '2016-07-23' '2016-07-24' '2016-07-25'\n",
            " '2016-07-26' '2016-07-27' '2016-07-28' '2016-07-29' '2016-07-30'\n",
            " '2016-07-31']\n"
          ]
        }
      ],
      "source": [
        "arr = np.arange('2016-07-01', '2016-08-01', dtype='datetime64[D]')\n",
        "print(arr)"
      ]
    },
    {
      "cell_type": "markdown",
      "metadata": {
        "id": "VD1DhukIPet6"
      },
      "source": [
        "#### 35. How to compute ((A+B)\\*(-A/2)) in place (without copy)? (★★☆) \n",
        "(**hint**: np.add(out=), np.negative(out=), np.multiply(out=), np.divide(out=))"
      ]
    },
    {
      "cell_type": "code",
      "execution_count": 35,
      "metadata": {
        "id": "ghOp7erpPet7",
        "colab": {
          "base_uri": "https://localhost:8080/"
        },
        "outputId": "188ab6bd-56fb-4e7c-ac2c-717204d8e8bc"
      },
      "outputs": [
        {
          "output_type": "execute_result",
          "data": {
            "text/plain": [
              "array([-1.5, -1.5, -1.5])"
            ]
          },
          "metadata": {},
          "execution_count": 35
        }
      ],
      "source": [
        "A = np.ones(3)*1\n",
        "B = np.ones(3)*2\n",
        "C = np.ones(3)*3\n",
        "np.add(A,B,out=B)\n",
        "np.divide(A,2,out=A)\n",
        "np.negative(A,out=A)\n",
        "np.multiply(A,B,out=A)"
      ]
    },
    {
      "cell_type": "markdown",
      "metadata": {
        "id": "5ii3kXQzPet7"
      },
      "source": [
        "#### 36. Extract the integer part of a random array using 5 different methods (★★☆) \n",
        "(**hint**: %, np.floor, np.ceil, astype, np.trunc)"
      ]
    },
    {
      "cell_type": "code",
      "execution_count": 36,
      "metadata": {
        "id": "jOKIyK3uPet7",
        "colab": {
          "base_uri": "https://localhost:8080/"
        },
        "outputId": "6602abb9-3627-4917-9b11-f574cdb19cfc"
      },
      "outputs": [
        {
          "output_type": "stream",
          "name": "stdout",
          "text": [
            "[4. 7. 9. 8. 2. 3. 5. 9. 9. 3.]\n",
            "[4. 7. 9. 8. 2. 3. 5. 9. 9. 3.]\n",
            "[4. 7. 9. 8. 2. 3. 5. 9. 9. 3.]\n",
            "[4 7 9 8 2 3 5 9 9 3]\n",
            "[4. 7. 9. 8. 2. 3. 5. 9. 9. 3.]\n"
          ]
        }
      ],
      "source": [
        "Z = np.random.uniform(0,10,10)\n",
        "# 5 techniques are:\n",
        "print(Z - Z%1)\n",
        "print(np.floor(Z))\n",
        "print(np.ceil(Z)-1)\n",
        "print(Z.astype(int))\n",
        "print(np.trunc(Z))"
      ]
    },
    {
      "cell_type": "markdown",
      "metadata": {
        "id": "dHYXV4L8Pet7"
      },
      "source": [
        "#### 37. Create a 5x5 matrix with row values ranging from 0 to 4 (★★☆) \n",
        "(**hint**: np.arange)"
      ]
    },
    {
      "cell_type": "code",
      "execution_count": 37,
      "metadata": {
        "id": "2T7aJDeZPet7",
        "colab": {
          "base_uri": "https://localhost:8080/"
        },
        "outputId": "bdc28795-cf02-455a-a184-915284d52301"
      },
      "outputs": [
        {
          "output_type": "stream",
          "name": "stdout",
          "text": [
            "[[0. 1. 2. 3. 4.]\n",
            " [0. 1. 2. 3. 4.]\n",
            " [0. 1. 2. 3. 4.]\n",
            " [0. 1. 2. 3. 4.]\n",
            " [0. 1. 2. 3. 4.]]\n"
          ]
        }
      ],
      "source": [
        "arr = np.zeros((5,5))\n",
        "arr += np.arange(5)\n",
        "print(arr)"
      ]
    },
    {
      "cell_type": "markdown",
      "metadata": {
        "id": "E8zY-1SZPet7"
      },
      "source": [
        "#### 38. Consider a generator function that generates 10 integers and use it to build an array (★☆☆) \n",
        "(**hint**: np.fromiter)"
      ]
    },
    {
      "cell_type": "code",
      "execution_count": 38,
      "metadata": {
        "id": "I5CrzxDYPet7",
        "colab": {
          "base_uri": "https://localhost:8080/"
        },
        "outputId": "67713eca-99f5-42ea-bbf0-94bda527b036"
      },
      "outputs": [
        {
          "output_type": "stream",
          "name": "stdout",
          "text": [
            "[0. 1. 2. 3. 4. 5. 6. 7. 8. 9.]\n"
          ]
        }
      ],
      "source": [
        "def generate():\n",
        "  for x in range(10):\n",
        "    yield x\n",
        "arr = np.fromiter(generate(),dtype=float,count=-1)\n",
        "print(arr)"
      ]
    },
    {
      "cell_type": "markdown",
      "metadata": {
        "id": "PN_LKQo_Pet7"
      },
      "source": [
        "#### 39. Create a vector of size 10 with values ranging from 0 to 1, both excluded (★★☆) \n",
        "(**hint**: np.linspace)"
      ]
    },
    {
      "cell_type": "code",
      "execution_count": 39,
      "metadata": {
        "id": "KnOlQQqbPet8",
        "colab": {
          "base_uri": "https://localhost:8080/"
        },
        "outputId": "679f020c-a20e-4150-f791-7c9636f52136"
      },
      "outputs": [
        {
          "output_type": "stream",
          "name": "stdout",
          "text": [
            "[0.09090909 0.18181818 0.27272727 0.36363636 0.45454545 0.54545455\n",
            " 0.63636364 0.72727273 0.81818182 0.90909091]\n"
          ]
        }
      ],
      "source": [
        "arr = np.linspace(0,1,11,endpoint=False)[1:]\n",
        "print(arr)"
      ]
    },
    {
      "cell_type": "markdown",
      "metadata": {
        "id": "eq2KF3p7Pet8"
      },
      "source": [
        "#### 40. Create a random vector of size 10 and sort it (★★☆) \n",
        "(**hint**: sort)"
      ]
    },
    {
      "cell_type": "code",
      "execution_count": 40,
      "metadata": {
        "id": "jqXvN53oPet8",
        "colab": {
          "base_uri": "https://localhost:8080/"
        },
        "outputId": "0f23e446-80b0-4ff2-d93f-b276e00b3d78"
      },
      "outputs": [
        {
          "output_type": "stream",
          "name": "stdout",
          "text": [
            "[0.18811444 0.19419938 0.19522198 0.54990214 0.565201   0.64649343\n",
            " 0.68074172 0.76382271 0.82967006 0.84160802]\n"
          ]
        }
      ],
      "source": [
        "arr = np.random.random(10)\n",
        "arr.sort()\n",
        "print(arr)"
      ]
    },
    {
      "cell_type": "markdown",
      "metadata": {
        "id": "wNzbkwc8Pet8"
      },
      "source": [
        "#### 41. How to sum a small array faster than np.sum? (★★☆) \n",
        "(**hint**: np.add.reduce)"
      ]
    },
    {
      "cell_type": "code",
      "execution_count": 41,
      "metadata": {
        "id": "2AWcdlN6Pet8",
        "colab": {
          "base_uri": "https://localhost:8080/"
        },
        "outputId": "ab0598c8-54b0-49ec-d9e1-efe454b1ba59"
      },
      "outputs": [
        {
          "output_type": "execute_result",
          "data": {
            "text/plain": [
              "45"
            ]
          },
          "metadata": {},
          "execution_count": 41
        }
      ],
      "source": [
        "Z = np.arange(10)\n",
        "np.add.reduce(Z)"
      ]
    },
    {
      "cell_type": "markdown",
      "metadata": {
        "id": "rGmeOhFwPet8"
      },
      "source": [
        "#### 42. Consider two random array A and B, check if they are equal (★★☆) \n",
        "(**hint**: np.allclose, np.array\\_equal)"
      ]
    },
    {
      "cell_type": "code",
      "execution_count": 42,
      "metadata": {
        "id": "iUVgUdTjPet8",
        "colab": {
          "base_uri": "https://localhost:8080/"
        },
        "outputId": "cc76ec08-7145-4863-b606-6c0b9768ef52"
      },
      "outputs": [
        {
          "output_type": "stream",
          "name": "stdout",
          "text": [
            "[1 0 0 1 0]\n",
            "[1 0 1 1 1]\n",
            "False\n",
            "False\n"
          ]
        }
      ],
      "source": [
        "A = np.random.randint(0,2,5)\n",
        "B = np.random.randint(0,2,5)\n",
        "print(A)\n",
        "print(B)\n",
        "# Assuming identical shape of the arrays and a tolerance for the comparison of values\n",
        "equal = np.allclose(A,B)\n",
        "print(equal)\n",
        "# Checking both the shape and the element values, no tolerance (values have to be exactly equal)\n",
        "equal = np.array_equal(A,B)\n",
        "print(equal)"
      ]
    },
    {
      "cell_type": "markdown",
      "metadata": {
        "id": "1RoWyM0LPet8"
      },
      "source": [
        "#### 43. Make an array immutable (read-only) (★★☆) \n",
        "(**hint**: flags.writeable)"
      ]
    },
    {
      "cell_type": "code",
      "execution_count": 43,
      "metadata": {
        "id": "IkMwBEd8Pet8",
        "colab": {
          "base_uri": "https://localhost:8080/"
        },
        "outputId": "a3b801fc-b112-4c90-acae-de522ee82560"
      },
      "outputs": [
        {
          "output_type": "stream",
          "name": "stdout",
          "text": [
            "Cannot update/add new elements into an immutable array\n"
          ]
        }
      ],
      "source": [
        "Z = np.zeros(5)\n",
        "Z.flags.writeable = False\n",
        "# Check if the array 'Z' is immutable\n",
        "try:\n",
        "  Z[0] = 1\n",
        "except:\n",
        "  print(\"Cannot update/add new elements into an immutable array\")"
      ]
    },
    {
      "cell_type": "markdown",
      "metadata": {
        "id": "ascV7JncPet9"
      },
      "source": [
        "#### 44. Consider a random 10x2 matrix representing cartesian coordinates, convert them to polar coordinates (★★☆) \n",
        "(**hint**: np.sqrt, np.arctan2)"
      ]
    },
    {
      "cell_type": "code",
      "execution_count": 44,
      "metadata": {
        "id": "IcM_V-YEPet9",
        "colab": {
          "base_uri": "https://localhost:8080/"
        },
        "outputId": "de168f18-8e76-4ef9-f25b-6fa991b12a0b"
      },
      "outputs": [
        {
          "output_type": "stream",
          "name": "stdout",
          "text": [
            "[0.73428242 0.84319174 0.89449222 0.95156607 0.85037044 0.62592229\n",
            " 0.24982    0.23666982 0.13557659 0.56994993]\n",
            "[1.18142256 0.02136085 0.23506842 0.53196711 0.08831274 1.51860398\n",
            " 0.1727315  0.8430032  1.39279051 0.95356734]\n"
          ]
        }
      ],
      "source": [
        "arr = np.random.random((10,2))\n",
        "x,y = arr[:,0],arr[:,1]\n",
        "r = np.sqrt(x**2+y**2)\n",
        "t = np.arctan2(y,x)\n",
        "print(r)\n",
        "print(t)"
      ]
    },
    {
      "cell_type": "markdown",
      "metadata": {
        "id": "MbD9YfoYPet9"
      },
      "source": [
        "#### 45. Create random vector of size 10 and replace the maximum value by 0 (★★☆) \n",
        "(**hint**: argmax)"
      ]
    },
    {
      "cell_type": "code",
      "execution_count": 45,
      "metadata": {
        "id": "pZRN65Q8Pet9",
        "colab": {
          "base_uri": "https://localhost:8080/"
        },
        "outputId": "a4d4ffce-753e-4424-876b-548ca46854d9"
      },
      "outputs": [
        {
          "output_type": "stream",
          "name": "stdout",
          "text": [
            "Original Array : [0.92354421 0.35138203 0.60053901 0.26300643 0.69167723 0.37257444\n",
            " 0.79435706 0.14102255 0.45862746 0.67081193]\n",
            "\n",
            "New Array : [0.         0.35138203 0.60053901 0.26300643 0.69167723 0.37257444\n",
            " 0.79435706 0.14102255 0.45862746 0.67081193]\n"
          ]
        }
      ],
      "source": [
        "arr = np.random.random(10)\n",
        "print(\"Original Array :\",arr)\n",
        "print()\n",
        "arr[arr.argmax()] = 0\n",
        "print(\"New Array :\",arr)"
      ]
    },
    {
      "cell_type": "markdown",
      "metadata": {
        "id": "5ISi6LRlPet9"
      },
      "source": [
        "#### 46. Create a structured array with `x` and `y` coordinates covering the \\[0,1\\]x\\[0,1\\] area (★★☆) \n",
        "(**hint**: np.meshgrid)"
      ]
    },
    {
      "cell_type": "code",
      "execution_count": 46,
      "metadata": {
        "id": "hfi4RMcmPet9",
        "colab": {
          "base_uri": "https://localhost:8080/"
        },
        "outputId": "b366d4f7-763e-4eb2-a60f-c053ddf972b5"
      },
      "outputs": [
        {
          "output_type": "stream",
          "name": "stdout",
          "text": [
            "[[(0.        , 0.        ) (0.33333333, 0.        )\n",
            "  (0.66666667, 0.        ) (1.        , 0.        )]\n",
            " [(0.        , 0.33333333) (0.33333333, 0.33333333)\n",
            "  (0.66666667, 0.33333333) (1.        , 0.33333333)]\n",
            " [(0.        , 0.66666667) (0.33333333, 0.66666667)\n",
            "  (0.66666667, 0.66666667) (1.        , 0.66666667)]\n",
            " [(0.        , 1.        ) (0.33333333, 1.        )\n",
            "  (0.66666667, 1.        ) (1.        , 1.        )]]\n"
          ]
        }
      ],
      "source": [
        "Z = np.zeros((4,4), [('x',float),('y',float)])\n",
        "Z['x'], Z['y'] = np.meshgrid(np.linspace(0,1,4),np.linspace(0,1,4))\n",
        "print(Z)"
      ]
    },
    {
      "cell_type": "markdown",
      "metadata": {
        "id": "x22NXrVtPet9"
      },
      "source": [
        "####  47. Given two arrays, X and Y, construct the Cauchy matrix C (Cij =1/(xi - yj)) \n",
        "(**hint**: np.subtract.outer)"
      ]
    },
    {
      "cell_type": "code",
      "execution_count": 47,
      "metadata": {
        "id": "5H8Cj58SPet9",
        "colab": {
          "base_uri": "https://localhost:8080/"
        },
        "outputId": "c0a90669-f418-4e4d-b7b7-a67d37eda211"
      },
      "outputs": [
        {
          "output_type": "stream",
          "name": "stdout",
          "text": [
            "33961.93294480236\n"
          ]
        }
      ],
      "source": [
        "X = np.arange(10)\n",
        "#print(X)\n",
        "Y = X + 0.5\n",
        "#print(Y)\n",
        "C = 1.0 / np.subtract.outer(X, Y)\n",
        "print(np.linalg.det(C))"
      ]
    },
    {
      "cell_type": "markdown",
      "metadata": {
        "id": "u9JBPnWfPet-"
      },
      "source": [
        "#### 48. Print the minimum and maximum representable value for each numpy scalar type (★★☆) \n",
        "(**hint**: np.iinfo, np.finfo, eps)"
      ]
    },
    {
      "cell_type": "code",
      "execution_count": 48,
      "metadata": {
        "id": "TCRT_BlZPet-",
        "colab": {
          "base_uri": "https://localhost:8080/"
        },
        "outputId": "476194ba-ec83-4668-f802-c914b88ab17d"
      },
      "outputs": [
        {
          "output_type": "stream",
          "name": "stdout",
          "text": [
            "-128\n",
            "127\n",
            "-2147483648\n",
            "2147483647\n",
            "-9223372036854775808\n",
            "9223372036854775807\n",
            "-3.4028235e+38\n",
            "3.4028235e+38\n",
            "1.1920929e-07\n",
            "-1.7976931348623157e+308\n",
            "1.7976931348623157e+308\n",
            "2.220446049250313e-16\n"
          ]
        }
      ],
      "source": [
        "for dtype in [np.int8, np.int32, np.int64]:\n",
        "  print(np.iinfo(dtype).min)\n",
        "  print(np.iinfo(dtype).max)\n",
        "for dtype in [np.float32, np.float64]:\n",
        "  print(np.finfo(dtype).min)\n",
        "  print(np.finfo(dtype).max)\n",
        "  print(np.finfo(dtype).eps)"
      ]
    },
    {
      "cell_type": "markdown",
      "metadata": {
        "id": "93-nWqkBPet-"
      },
      "source": [
        "#### 49. How to print all the values of an array? (★★☆) \n",
        "(**hint**: np.set\\_printoptions)"
      ]
    },
    {
      "cell_type": "code",
      "execution_count": 49,
      "metadata": {
        "id": "-ZKtZ62tPet-",
        "colab": {
          "base_uri": "https://localhost:8080/"
        },
        "outputId": "03506fd0-a18f-4d84-f6d2-9fdc78660a94"
      },
      "outputs": [
        {
          "output_type": "stream",
          "name": "stdout",
          "text": [
            "[[0.93821845 0.73113162 0.39466936 0.04655192 0.09044674]\n",
            " [0.30703144 0.7217666  0.78260309 0.35021516 0.64300465]\n",
            " [0.52189921 0.3305876  0.4751113  0.55092824 0.96227584]]\n"
          ]
        }
      ],
      "source": [
        "np.set_printoptions()\n",
        "arr = np.random.random(15).reshape(3,5)\n",
        "print(arr)"
      ]
    },
    {
      "cell_type": "markdown",
      "metadata": {
        "id": "-g_m0q4hPet-"
      },
      "source": [
        "#### 50. How to find the closest value (to a given scalar) in a vector? (★★☆) \n",
        "(**hint**: argmin)"
      ]
    },
    {
      "cell_type": "code",
      "execution_count": 50,
      "metadata": {
        "id": "7byHQPKuPet-",
        "colab": {
          "base_uri": "https://localhost:8080/"
        },
        "outputId": "9c9344a7-14eb-44fc-edf4-8873fb938ab3"
      },
      "outputs": [
        {
          "output_type": "stream",
          "name": "stdout",
          "text": [
            "61\n"
          ]
        }
      ],
      "source": [
        "arr = np.arange(100)\n",
        "v = np.random.uniform(0,100)\n",
        "index = (np.abs(arr-v)).argmin()\n",
        "print(arr[index])"
      ]
    },
    {
      "cell_type": "markdown",
      "metadata": {
        "id": "2ksLRzl1Pet-"
      },
      "source": [
        "#### 51. Create a structured array representing a position (x,y) and a color (r,g,b) (★★☆) \n",
        "(**hint**: dtype)"
      ]
    },
    {
      "cell_type": "code",
      "execution_count": 51,
      "metadata": {
        "id": "KohARbqgPet-",
        "colab": {
          "base_uri": "https://localhost:8080/"
        },
        "outputId": "057c26a2-91ed-4e36-fcfd-262b862fad14"
      },
      "outputs": [
        {
          "output_type": "stream",
          "name": "stdout",
          "text": [
            "[((0., 0.), (0., 0., 0.)) ((0., 0.), (0., 0., 0.))\n",
            " ((0., 0.), (0., 0., 0.)) ((0., 0.), (0., 0., 0.))\n",
            " ((0., 0.), (0., 0., 0.)) ((0., 0.), (0., 0., 0.))\n",
            " ((0., 0.), (0., 0., 0.)) ((0., 0.), (0., 0., 0.))\n",
            " ((0., 0.), (0., 0., 0.)) ((0., 0.), (0., 0., 0.))]\n"
          ]
        },
        {
          "output_type": "stream",
          "name": "stderr",
          "text": [
            "/usr/local/lib/python3.7/dist-packages/ipykernel_launcher.py:2: FutureWarning: Passing (type, 1) or '1type' as a synonym of type is deprecated; in a future version of numpy, it will be understood as (type, (1,)) / '(1,)type'.\n",
            "  \n"
          ]
        }
      ],
      "source": [
        "arr = np.zeros(10, [ ('position', [ ('x', float, 1),('y', float, 1)]),\n",
        "                   ('color',    [ ('r', float, 1),('g', float, 1),('b', float, 1)])])\n",
        "print(arr)"
      ]
    },
    {
      "cell_type": "markdown",
      "metadata": {
        "id": "5vv90ad2Pet_"
      },
      "source": [
        "#### 52. Consider a random vector with shape (100,2) representing coordinates, find point by point distances (★★☆) \n",
        "(**hint**: np.atleast\\_2d, T, np.sqrt)"
      ]
    },
    {
      "cell_type": "code",
      "execution_count": 52,
      "metadata": {
        "id": "RmIiFOA5Pet_",
        "colab": {
          "base_uri": "https://localhost:8080/"
        },
        "outputId": "55bd3a46-2dc0-4294-bf98-60d2ae226d92"
      },
      "outputs": [
        {
          "output_type": "stream",
          "name": "stdout",
          "text": [
            "[[0.         0.9054336  0.66428898 0.3565103  0.41900354 0.31377909\n",
            "  0.45246047 0.23617723 0.13154175 0.07236962]\n",
            " [0.9054336  0.         0.31999941 0.89010157 1.04179831 0.95152559\n",
            "  0.45438159 0.67303738 0.87036168 0.85025386]\n",
            " [0.66428898 0.31999941 0.         0.76333795 0.91047452 0.64702859\n",
            "  0.27731804 0.43064675 0.6682873  0.62493868]\n",
            " [0.3565103  0.89010157 0.76333795 0.         0.15209407 0.66445963\n",
            "  0.48701384 0.41004504 0.2259825  0.30216864]\n",
            " [0.41900354 1.04179831 0.91047452 0.15209407 0.         0.73195243\n",
            "  0.63573106 0.5335905  0.30670572 0.38556627]\n",
            " [0.31377909 0.95152559 0.64702859 0.66445963 0.73195243 0.\n",
            "  0.55911279 0.35799564 0.43922969 0.36242476]\n",
            " [0.45246047 0.45438159 0.27731804 0.48701384 0.63573106 0.55911279\n",
            "  0.         0.226885   0.41958605 0.39587474]\n",
            " [0.23617723 0.67303738 0.43064675 0.41004504 0.5335905  0.35799564\n",
            "  0.226885   0.         0.24812426 0.19490456]\n",
            " [0.13154175 0.87036168 0.6682873  0.2259825  0.30670572 0.43922969\n",
            "  0.41958605 0.24812426 0.         0.07960223]\n",
            " [0.07236962 0.85025386 0.62493868 0.30216864 0.38556627 0.36242476\n",
            "  0.39587474 0.19490456 0.07960223 0.        ]]\n"
          ]
        }
      ],
      "source": [
        "arr = np.random.random((10,2))\n",
        "X,Y = np.atleast_2d(arr[:,0],arr[:,1])\n",
        "D = np.sqrt( (X-X.T)**2 + (Y-Y.T)**2)\n",
        "print(D)"
      ]
    },
    {
      "cell_type": "markdown",
      "metadata": {
        "id": "LnFohs4xPet_"
      },
      "source": [
        "#### 53. How to convert a float (32 bits) array into an integer (32 bits) in place? \n",
        "(**hint**: astype(copy=False))"
      ]
    },
    {
      "cell_type": "code",
      "execution_count": 53,
      "metadata": {
        "id": "88ppHwxOPet_",
        "colab": {
          "base_uri": "https://localhost:8080/"
        },
        "outputId": "228c0d46-355e-460f-b1b0-a4b229a41aa9"
      },
      "outputs": [
        {
          "output_type": "stream",
          "name": "stdout",
          "text": [
            "[0 1 2 3 4 5 6 7 8 9]\n"
          ]
        }
      ],
      "source": [
        "Z = np.arange(10, dtype=np.float32)\n",
        "Z = Z.astype(np.int32, copy=False)\n",
        "print(Z)"
      ]
    },
    {
      "cell_type": "markdown",
      "metadata": {
        "id": "w2XFbqLKPet_"
      },
      "source": [
        "#### 54. How to read the following file? (★★☆) \n",
        "(**hint**: np.genfromtxt)"
      ]
    },
    {
      "cell_type": "markdown",
      "metadata": {
        "id": "wtHBlOuLPet_"
      },
      "source": [
        "```\n",
        "1, 2, 3, 4, 5\n",
        "6,  ,  , 7, 8\n",
        " ,  , 9,10,11\n",
        "```"
      ]
    },
    {
      "cell_type": "code",
      "execution_count": 54,
      "metadata": {
        "id": "Eebq3_-HPet_",
        "colab": {
          "base_uri": "https://localhost:8080/"
        },
        "outputId": "8906306d-c5d5-4ab5-b231-74eea0c787e4"
      },
      "outputs": [
        {
          "output_type": "stream",
          "name": "stdout",
          "text": [
            "[[ 1  2  3  4  5]\n",
            " [ 6 -1 -1  7  8]\n",
            " [-1 -1  9 10 11]]\n"
          ]
        },
        {
          "output_type": "stream",
          "name": "stderr",
          "text": [
            "/usr/local/lib/python3.7/dist-packages/ipykernel_launcher.py:6: DeprecationWarning: `np.int` is a deprecated alias for the builtin `int`. To silence this warning, use `int` by itself. Doing this will not modify any behavior and is safe. When replacing `np.int`, you may wish to use e.g. `np.int64` or `np.int32` to specify the precision. If you wish to review your current use, check the release note link for additional information.\n",
            "Deprecated in NumPy 1.20; for more details and guidance: https://numpy.org/devdocs/release/1.20.0-notes.html#deprecations\n",
            "  \n"
          ]
        }
      ],
      "source": [
        "from io import StringIO\n",
        "filedata = StringIO(\"\"\"1, 2, 3, 4, 5\\n\n",
        "                6,  ,  , 7, 8\\n\n",
        "                 ,  , 9,10,11\\n\"\"\")\n",
        "\n",
        "arr = np.genfromtxt(filedata, delimiter=\",\", dtype=np.int)\n",
        "print(arr)"
      ]
    },
    {
      "cell_type": "markdown",
      "metadata": {
        "id": "UCXnGwdHPet_"
      },
      "source": [
        "#### 55. What is the equivalent of enumerate for numpy arrays? (★★☆) \n",
        "(**hint**: np.ndenumerate, np.ndindex)"
      ]
    },
    {
      "cell_type": "code",
      "execution_count": 55,
      "metadata": {
        "id": "m1lwRblQPet_",
        "colab": {
          "base_uri": "https://localhost:8080/"
        },
        "outputId": "9934b036-4bdb-4ad1-e2e0-87c614450ae3"
      },
      "outputs": [
        {
          "output_type": "stream",
          "name": "stdout",
          "text": [
            "(0, 0) 0\n",
            "(0, 1) 1\n",
            "(0, 2) 2\n",
            "(1, 0) 3\n",
            "(1, 1) 4\n",
            "(1, 2) 5\n",
            "(0, 0) 0\n",
            "(0, 1) 1\n",
            "(0, 2) 2\n",
            "(1, 0) 3\n",
            "(1, 1) 4\n",
            "(1, 2) 5\n"
          ]
        }
      ],
      "source": [
        "arr = np.arange(6).reshape(2,3)\n",
        "for index, value in np.ndenumerate(arr):\n",
        "    print(index, value)\n",
        "\n",
        "for index in np.ndindex(arr.shape):\n",
        "    print(index, arr[index])"
      ]
    },
    {
      "cell_type": "markdown",
      "metadata": {
        "id": "0wumSiDNPeuA"
      },
      "source": [
        "#### 56. Generate a generic 2D Gaussian-like array (★★☆) \n",
        "(**hint**: np.meshgrid, np.exp)"
      ]
    },
    {
      "cell_type": "code",
      "execution_count": 56,
      "metadata": {
        "id": "WHE6mmNCPeuA",
        "colab": {
          "base_uri": "https://localhost:8080/"
        },
        "outputId": "1918f143-7ae4-4e94-8047-2d59d0d44122"
      },
      "outputs": [
        {
          "output_type": "stream",
          "name": "stdout",
          "text": [
            "[[0.36787944 0.44822088 0.51979489 0.57375342 0.60279818 0.60279818\n",
            "  0.57375342 0.51979489 0.44822088 0.36787944]\n",
            " [0.44822088 0.54610814 0.63331324 0.69905581 0.73444367 0.73444367\n",
            "  0.69905581 0.63331324 0.54610814 0.44822088]\n",
            " [0.51979489 0.63331324 0.73444367 0.81068432 0.85172308 0.85172308\n",
            "  0.81068432 0.73444367 0.63331324 0.51979489]\n",
            " [0.57375342 0.69905581 0.81068432 0.89483932 0.9401382  0.9401382\n",
            "  0.89483932 0.81068432 0.69905581 0.57375342]\n",
            " [0.60279818 0.73444367 0.85172308 0.9401382  0.98773022 0.98773022\n",
            "  0.9401382  0.85172308 0.73444367 0.60279818]\n",
            " [0.60279818 0.73444367 0.85172308 0.9401382  0.98773022 0.98773022\n",
            "  0.9401382  0.85172308 0.73444367 0.60279818]\n",
            " [0.57375342 0.69905581 0.81068432 0.89483932 0.9401382  0.9401382\n",
            "  0.89483932 0.81068432 0.69905581 0.57375342]\n",
            " [0.51979489 0.63331324 0.73444367 0.81068432 0.85172308 0.85172308\n",
            "  0.81068432 0.73444367 0.63331324 0.51979489]\n",
            " [0.44822088 0.54610814 0.63331324 0.69905581 0.73444367 0.73444367\n",
            "  0.69905581 0.63331324 0.54610814 0.44822088]\n",
            " [0.36787944 0.44822088 0.51979489 0.57375342 0.60279818 0.60279818\n",
            "  0.57375342 0.51979489 0.44822088 0.36787944]]\n"
          ]
        }
      ],
      "source": [
        "X, Y = np.meshgrid(np.linspace(-1,1,10), np.linspace(-1,1,10))\n",
        "D = np.sqrt(X*X+Y*Y)\n",
        "sigma, mu = 1.0, 0.0\n",
        "G = np.exp(-( (D-mu)**2 / ( 2.0 * sigma**2 ) ) )\n",
        "print(G)"
      ]
    },
    {
      "cell_type": "markdown",
      "metadata": {
        "id": "WQmW_D_jPeuA"
      },
      "source": [
        "#### 57. How to randomly place p elements in a 2D array? (★★☆) \n",
        "(**hint**: np.put, np.random.choice)"
      ]
    },
    {
      "cell_type": "code",
      "execution_count": 57,
      "metadata": {
        "id": "U0lyYe8nPeuA",
        "colab": {
          "base_uri": "https://localhost:8080/"
        },
        "outputId": "7d62eed7-e8f5-4028-a750-3a72579bbd03"
      },
      "outputs": [
        {
          "output_type": "stream",
          "name": "stdout",
          "text": [
            "[[0. 0. 0. 0. 0. 0. 0. 0. 0. 0.]\n",
            " [0. 0. 0. 0. 0. 0. 0. 0. 0. 0.]\n",
            " [1. 0. 0. 0. 0. 0. 0. 0. 0. 0.]\n",
            " [0. 0. 0. 0. 0. 0. 0. 0. 0. 0.]\n",
            " [0. 0. 0. 0. 0. 0. 0. 0. 0. 0.]\n",
            " [0. 0. 0. 0. 0. 0. 0. 0. 0. 0.]\n",
            " [0. 0. 0. 0. 0. 0. 0. 0. 0. 0.]\n",
            " [0. 0. 0. 0. 0. 0. 0. 0. 0. 0.]\n",
            " [0. 1. 0. 0. 0. 0. 0. 0. 0. 0.]\n",
            " [0. 0. 0. 0. 0. 0. 0. 0. 1. 0.]]\n"
          ]
        }
      ],
      "source": [
        "ndim = 10\n",
        "x = 3\n",
        "Z = np.zeros((ndim,ndim))\n",
        "np.put(Z, np.random.choice(range(ndim*ndim), x, replace=False),1)\n",
        "print(Z)"
      ]
    },
    {
      "cell_type": "markdown",
      "metadata": {
        "id": "3FgMQexYPeuA"
      },
      "source": [
        "#### 58. Subtract the mean of each row of a matrix (★★☆) \n",
        "(**hint**: mean(axis=,keepdims=))"
      ]
    },
    {
      "cell_type": "code",
      "execution_count": 58,
      "metadata": {
        "id": "e7NuGGm9PeuA",
        "colab": {
          "base_uri": "https://localhost:8080/"
        },
        "outputId": "d8e24f9f-6efe-4637-b51a-417df5c51ad8"
      },
      "outputs": [
        {
          "output_type": "stream",
          "name": "stdout",
          "text": [
            "[[-0.22281416  0.07915782 -0.20505054  0.25971764  0.08898924]\n",
            " [-0.35302091 -0.28284849  0.47514416 -0.14834931  0.30907455]\n",
            " [ 0.24366875 -0.03463473  0.0218776  -0.32200823  0.09109661]\n",
            " [ 0.14162995  0.06425331 -0.00495447 -0.14107128 -0.05985751]\n",
            " [ 0.22067664  0.00269516 -0.31247323  0.21217454 -0.1230731 ]]\n"
          ]
        }
      ],
      "source": [
        "x = np.random.rand(5,5)\n",
        "arr = x - x.mean(axis=1, keepdims=True)\n",
        "print(arr)"
      ]
    },
    {
      "cell_type": "markdown",
      "metadata": {
        "id": "4u0IPWzEPeuA"
      },
      "source": [
        "#### 59. How to sort an array by the nth column? (★★☆) \n",
        "(**hint**: argsort)"
      ]
    },
    {
      "cell_type": "code",
      "execution_count": 59,
      "metadata": {
        "id": "SdTcOuQOPeuA",
        "colab": {
          "base_uri": "https://localhost:8080/"
        },
        "outputId": "2e06fb5d-a02f-4a05-f690-946fe3f7985e"
      },
      "outputs": [
        {
          "output_type": "stream",
          "name": "stdout",
          "text": [
            "[[5 0 9]\n",
            " [3 4 7]\n",
            " [0 2 8]]\n",
            "[[5 0 9]\n",
            " [0 2 8]\n",
            " [3 4 7]]\n"
          ]
        }
      ],
      "source": [
        "arr = np.random.randint(0,10,(3,3))\n",
        "print(arr)\n",
        "n = 1\n",
        "print(arr[arr[:,n].argsort()])"
      ]
    },
    {
      "cell_type": "markdown",
      "metadata": {
        "id": "7Q_NuyRqPeuA"
      },
      "source": [
        "#### 60. How to tell if a given 2D array has null columns? (★★☆) \n",
        "(**hint**: any, ~)"
      ]
    },
    {
      "cell_type": "code",
      "execution_count": 60,
      "metadata": {
        "id": "ThXpiVuTPeuB",
        "colab": {
          "base_uri": "https://localhost:8080/"
        },
        "outputId": "c7b5fae4-087c-44fa-c27c-3da5f3aeba26"
      },
      "outputs": [
        {
          "output_type": "stream",
          "name": "stdout",
          "text": [
            "[[0 2 2 1 1 0 2 1 1 1]\n",
            " [0 2 0 1 1 2 2 2 2 2]\n",
            " [2 1 1 2 2 1 1 2 0 2]]\n",
            "False\n"
          ]
        }
      ],
      "source": [
        "Z = np.random.randint(0,3,(3,10))\n",
        "print(Z)\n",
        "print((~Z.any(axis=0)).any())"
      ]
    },
    {
      "cell_type": "markdown",
      "metadata": {
        "id": "TnjEWOH5PeuB"
      },
      "source": [
        "#### 61. Find the nearest value from a given value in an array (★★☆) \n",
        "(**hint**: np.abs, argmin, flat)"
      ]
    },
    {
      "cell_type": "code",
      "execution_count": 61,
      "metadata": {
        "id": "SmB-H96xPeuB",
        "colab": {
          "base_uri": "https://localhost:8080/"
        },
        "outputId": "b132988b-ce85-40ca-8081-41938c88df69"
      },
      "outputs": [
        {
          "output_type": "stream",
          "name": "stdout",
          "text": [
            "0.3746869113264144\n"
          ]
        }
      ],
      "source": [
        "arr = np.random.uniform(0,1,10)\n",
        "num = 0.5\n",
        "m = arr.flat[np.abs(arr - num).argmin()]\n",
        "print(m)"
      ]
    },
    {
      "cell_type": "markdown",
      "metadata": {
        "id": "XWGchBFKPeuB"
      },
      "source": [
        "#### 62. Considering two arrays with shape (1,3) and (3,1), how to compute their sum using an iterator? (★★☆) \n",
        "(**hint**: np.nditer)"
      ]
    },
    {
      "cell_type": "code",
      "execution_count": 62,
      "metadata": {
        "id": "U22TWULWPeuB",
        "colab": {
          "base_uri": "https://localhost:8080/"
        },
        "outputId": "e865ce7e-956a-4a04-d1da-859a4ce27101"
      },
      "outputs": [
        {
          "output_type": "stream",
          "name": "stdout",
          "text": [
            "[[0 1 2]\n",
            " [1 2 3]\n",
            " [2 3 4]]\n"
          ]
        }
      ],
      "source": [
        "A = np.arange(3).reshape(3,1)\n",
        "B = np.arange(3).reshape(1,3)\n",
        "it = np.nditer([A,B,None])\n",
        "for x,y,z in it: z[...] = x + y\n",
        "print(it.operands[2])"
      ]
    },
    {
      "cell_type": "markdown",
      "metadata": {
        "id": "ELE5soydPeuB"
      },
      "source": [
        "#### 63. Create an array class that has a name attribute (★★☆) \n",
        "(**hint**: class method)"
      ]
    },
    {
      "cell_type": "code",
      "execution_count": 63,
      "metadata": {
        "id": "cEw6Q6WwPeuB",
        "colab": {
          "base_uri": "https://localhost:8080/"
        },
        "outputId": "e512c472-76a1-4e85-9753-b4bae28d427a"
      },
      "outputs": [
        {
          "output_type": "stream",
          "name": "stdout",
          "text": [
            "range5array\n"
          ]
        }
      ],
      "source": [
        "class NamedArray(np.ndarray):\n",
        "  def __new__(cls, array, name=\"no name\"):\n",
        "    obj = np.asarray(array).view(cls)\n",
        "    obj.name = name\n",
        "    return obj\n",
        "  def __array_finalize__(self, obj):\n",
        "    if obj is None: return\n",
        "    self.info = getattr(obj, 'name', \"no name\")\n",
        "\n",
        "arr = NamedArray(np.arange(5), \"range5array\")\n",
        "print (arr.name)"
      ]
    },
    {
      "cell_type": "markdown",
      "metadata": {
        "id": "u5TpRti5PeuB"
      },
      "source": [
        "#### 64. Consider a given vector, how to add 1 to each element indexed by a second vector (be careful with repeated indices)? (★★★) \n",
        "(**hint**: np.bincount | np.add.at)"
      ]
    },
    {
      "cell_type": "code",
      "execution_count": 64,
      "metadata": {
        "id": "5CQ-ICd5PeuB",
        "colab": {
          "base_uri": "https://localhost:8080/"
        },
        "outputId": "bc8bcc6d-9810-4430-848b-441588d389c6"
      },
      "outputs": [
        {
          "output_type": "stream",
          "name": "stdout",
          "text": [
            "[4. 2. 6. 5. 1. 2. 3. 1. 4. 2.]\n",
            "[ 7.  3. 11.  9.  1.  3.  5.  1.  7.  3.]\n"
          ]
        }
      ],
      "source": [
        "arr = np.ones(10)\n",
        "I = np.random.randint(0,len(arr),20)\n",
        "arr += np.bincount(I, minlength=len(arr))\n",
        "print(arr)\n",
        "\n",
        "np.add.at(arr, I, 1)\n",
        "print(arr)"
      ]
    },
    {
      "cell_type": "markdown",
      "metadata": {
        "id": "EdaLPtIsPeuB"
      },
      "source": [
        "#### 65. How to accumulate elements of a vector (X) to an array (F) based on an index list (I)? (★★★) \n",
        "(**hint**: np.bincount)"
      ]
    },
    {
      "cell_type": "code",
      "execution_count": 65,
      "metadata": {
        "id": "HKpyU40hPeuC",
        "colab": {
          "base_uri": "https://localhost:8080/"
        },
        "outputId": "bab990df-c1ec-4d43-c7a5-ae8d047b05a7"
      },
      "outputs": [
        {
          "output_type": "stream",
          "name": "stdout",
          "text": [
            "[0. 7. 0. 6. 5. 0. 0. 0. 0. 3.]\n"
          ]
        }
      ],
      "source": [
        "x = [1,2,3,4,5,6]\n",
        "i = [1,3,9,3,4,1]\n",
        "newx = np.bincount(i,x)\n",
        "print(newx)"
      ]
    },
    {
      "cell_type": "markdown",
      "metadata": {
        "id": "8os-S5X0PeuC"
      },
      "source": [
        "#### 66. Considering a (w,h,3) image of (dtype=ubyte), compute the number of unique colors (★★★) \n",
        "(**hint**: np.unique)"
      ]
    },
    {
      "cell_type": "code",
      "execution_count": 66,
      "metadata": {
        "id": "LiXGcBZQPeuC",
        "colab": {
          "base_uri": "https://localhost:8080/"
        },
        "outputId": "7cac37af-4f5a-4ce0-c3e0-f3b33acbf823"
      },
      "outputs": [
        {
          "output_type": "stream",
          "name": "stdout",
          "text": [
            "8\n"
          ]
        }
      ],
      "source": [
        "w,h = 16,16\n",
        "I = np.random.randint(0,2,(h,w,3)).astype(np.ubyte)\n",
        "F = I[...,0]*(256*256) + I[...,1]*256 +I[...,2]\n",
        "n = len(np.unique(F))\n",
        "print(n)"
      ]
    },
    {
      "cell_type": "markdown",
      "metadata": {
        "id": "Z5ai-nCyPeuC"
      },
      "source": [
        "#### 67. Considering a four dimensions array, how to get sum over the last two axis at once? (★★★) \n",
        "(**hint**: sum(axis=(-2,-1)))"
      ]
    },
    {
      "cell_type": "code",
      "execution_count": 67,
      "metadata": {
        "id": "xjW8tmfLPeuC",
        "colab": {
          "base_uri": "https://localhost:8080/"
        },
        "outputId": "ab08b57d-d776-41d6-f2dd-ba9d78972387"
      },
      "outputs": [
        {
          "output_type": "stream",
          "name": "stdout",
          "text": [
            "[[47 59 66 51]\n",
            " [58 46 59 60]\n",
            " [53 64 66 44]]\n",
            "[[47 59 66 51]\n",
            " [58 46 59 60]\n",
            " [53 64 66 44]]\n"
          ]
        }
      ],
      "source": [
        "A = np.random.randint(0,10,(3,4,3,4))\n",
        "sum = A.sum(axis=(-2,-1))\n",
        "print(sum)\n",
        "sum = A.reshape(A.shape[:-2] + (-1,)).sum(axis=-1)\n",
        "print(sum)"
      ]
    },
    {
      "cell_type": "markdown",
      "metadata": {
        "id": "-SIjFkHBPeuC"
      },
      "source": [
        "#### 68. Considering a one-dimensional vector D, how to compute means of subsets of D using a vector S of same size describing subset  indices? (★★★) \n",
        "(**hint**: np.bincount)"
      ]
    },
    {
      "cell_type": "code",
      "execution_count": 68,
      "metadata": {
        "id": "FfSe3_hPPeuC",
        "colab": {
          "base_uri": "https://localhost:8080/"
        },
        "outputId": "e8d3c6fb-73c0-418e-e75d-7b7270580ac1"
      },
      "outputs": [
        {
          "output_type": "stream",
          "name": "stdout",
          "text": [
            "[0.50236137 0.62659205 0.23834811 0.6452868  0.34712493 0.4555686\n",
            " 0.5064702  0.34096601 0.40348543 0.51646466]\n",
            "0    0.502361\n",
            "1    0.626592\n",
            "2    0.238348\n",
            "3    0.645287\n",
            "4    0.347125\n",
            "5    0.455569\n",
            "6    0.506470\n",
            "7    0.340966\n",
            "8    0.403485\n",
            "9    0.516465\n",
            "dtype: float64\n"
          ]
        }
      ],
      "source": [
        "import pandas as pd\n",
        "D = np.random.uniform(0,1,100)\n",
        "S = np.random.randint(0,10,100)\n",
        "D_sums = np.bincount(S, weights=D)\n",
        "D_counts = np.bincount(S)\n",
        "D_means = D_sums / D_counts\n",
        "print(D_means)\n",
        "print(pd.Series(D).groupby(S).mean())"
      ]
    },
    {
      "cell_type": "markdown",
      "metadata": {
        "id": "wz1VWJvwPeuC"
      },
      "source": [
        "#### 69. How to get the diagonal of a dot product? (★★★) \n",
        "(**hint**: np.diag)"
      ]
    },
    {
      "cell_type": "code",
      "execution_count": 69,
      "metadata": {
        "id": "Qaj7daptPeuD",
        "colab": {
          "base_uri": "https://localhost:8080/"
        },
        "outputId": "d27fe437-62b0-4816-dcf9-4914c846189d"
      },
      "outputs": [
        {
          "output_type": "execute_result",
          "data": {
            "text/plain": [
              "array([1.3816301 , 1.26745919, 2.56960756, 1.47010757, 1.46688557])"
            ]
          },
          "metadata": {},
          "execution_count": 69
        }
      ],
      "source": [
        "A = np.random.uniform(0,1,(5,5))\n",
        "B = np.random.uniform(0,1,(5,5))\n",
        "np.diag(np.dot(A, B))\n",
        "np.sum(A * B.T, axis=1)\n",
        "np.einsum(\"ij,ji->i\", A, B)"
      ]
    },
    {
      "cell_type": "markdown",
      "metadata": {
        "id": "a506sKerPeuD"
      },
      "source": [
        "#### 70. Consider the vector \\[1, 2, 3, 4, 5\\], how to build a new vector with 3 consecutive zeros interleaved between each value? (★★★) \n",
        "(**hint**: array\\[::4\\])"
      ]
    },
    {
      "cell_type": "code",
      "execution_count": 70,
      "metadata": {
        "id": "uIYKWc_qPeuD",
        "colab": {
          "base_uri": "https://localhost:8080/"
        },
        "outputId": "caa69299-e8b3-4eaf-84f3-c6dc200c111c"
      },
      "outputs": [
        {
          "output_type": "stream",
          "name": "stdout",
          "text": [
            "[1. 0. 0. 0. 2. 0. 0. 0. 3. 0. 0. 0. 4. 0. 0. 0. 5.]\n"
          ]
        }
      ],
      "source": [
        "Z = np.array([1,2,3,4,5])\n",
        "nz = 3\n",
        "Z0 = np.zeros(len(Z) + (len(Z)-1)*(nz))\n",
        "Z0[::nz+1] = Z\n",
        "print(Z0)"
      ]
    },
    {
      "cell_type": "markdown",
      "metadata": {
        "id": "kst_xPsJPeuD"
      },
      "source": [
        "#### 71. Consider an array of dimension (5,5,3), how to mulitply it by an array with dimensions (5,5)? (★★★) \n",
        "(**hint**: array\\[:, :, None\\])"
      ]
    },
    {
      "cell_type": "code",
      "execution_count": 71,
      "metadata": {
        "collapsed": true,
        "id": "JW8_jLwWPeuD",
        "colab": {
          "base_uri": "https://localhost:8080/"
        },
        "outputId": "b8463bf3-7d03-4291-c543-0ffde4845edc"
      },
      "outputs": [
        {
          "output_type": "stream",
          "name": "stdout",
          "text": [
            "[[[2. 2. 2.]\n",
            "  [2. 2. 2.]\n",
            "  [2. 2. 2.]\n",
            "  [2. 2. 2.]\n",
            "  [2. 2. 2.]]\n",
            "\n",
            " [[2. 2. 2.]\n",
            "  [2. 2. 2.]\n",
            "  [2. 2. 2.]\n",
            "  [2. 2. 2.]\n",
            "  [2. 2. 2.]]\n",
            "\n",
            " [[2. 2. 2.]\n",
            "  [2. 2. 2.]\n",
            "  [2. 2. 2.]\n",
            "  [2. 2. 2.]\n",
            "  [2. 2. 2.]]\n",
            "\n",
            " [[2. 2. 2.]\n",
            "  [2. 2. 2.]\n",
            "  [2. 2. 2.]\n",
            "  [2. 2. 2.]\n",
            "  [2. 2. 2.]]\n",
            "\n",
            " [[2. 2. 2.]\n",
            "  [2. 2. 2.]\n",
            "  [2. 2. 2.]\n",
            "  [2. 2. 2.]\n",
            "  [2. 2. 2.]]]\n"
          ]
        }
      ],
      "source": [
        "A = np.ones((5,5,3))\n",
        "B = 2*np.ones((5,5))\n",
        "print(A * B[:,:,None])"
      ]
    },
    {
      "cell_type": "markdown",
      "metadata": {
        "id": "cuVsWkS5PeuD"
      },
      "source": [
        "#### 72. How to swap two rows of an array? (★★★) \n",
        "(**hint**: array\\[\\[\\]\\] = array\\[\\[\\]\\])"
      ]
    },
    {
      "cell_type": "code",
      "execution_count": 72,
      "metadata": {
        "id": "kFHx37_xPeuE",
        "colab": {
          "base_uri": "https://localhost:8080/"
        },
        "outputId": "2299387d-c0f3-4f5c-b0f1-d4c50b5b19d7"
      },
      "outputs": [
        {
          "output_type": "stream",
          "name": "stdout",
          "text": [
            "[[ 5  6  7  8  9]\n",
            " [ 0  1  2  3  4]\n",
            " [10 11 12 13 14]\n",
            " [15 16 17 18 19]\n",
            " [20 21 22 23 24]]\n"
          ]
        }
      ],
      "source": [
        "arr = np.arange(25).reshape(5,5)\n",
        "arr[[0,1]] = arr[[1,0]]\n",
        "print(arr)"
      ]
    },
    {
      "cell_type": "markdown",
      "metadata": {
        "id": "Z-5bOTFcPeuE"
      },
      "source": [
        "#### 73. Consider a set of 10 triplets describing 10 triangles (with shared vertices), find the set of unique line segments composing all the  triangles (★★★) \n",
        "(**hint**: repeat, np.roll, np.sort, view, np.unique)"
      ]
    },
    {
      "cell_type": "code",
      "execution_count": 73,
      "metadata": {
        "id": "ZCw_SaEnPeuE",
        "colab": {
          "base_uri": "https://localhost:8080/"
        },
        "outputId": "c72f5f6f-ce29-4c9c-affb-40873b646e17"
      },
      "outputs": [
        {
          "output_type": "stream",
          "name": "stdout",
          "text": [
            "[( 4, 74) ( 4, 99) ( 5, 67) ( 5, 98) ( 6, 57) ( 6, 70) ( 7, 27) ( 7, 87)\n",
            " (17, 72) (17, 91) (18, 63) (18, 71) (24, 57) (24, 99) (27, 79) (27, 87)\n",
            " (27, 89) (36, 38) (36, 75) (38, 75) (57, 70) (57, 99) (63, 71) (67, 98)\n",
            " (72, 91) (74, 99) (76, 89) (79, 89) (89, 89)]\n"
          ]
        }
      ],
      "source": [
        "arr = np.random.randint(0,100,(10,3))\n",
        "F = np.roll(arr.repeat(2,axis=1),-1,axis=1)\n",
        "F = F.reshape(len(F)*3,2)\n",
        "F = np.sort(F,axis=1)\n",
        "G = F.view( dtype=[('p0',F.dtype),('p1',F.dtype)] )\n",
        "G = np.unique(G)\n",
        "print(G)"
      ]
    },
    {
      "cell_type": "markdown",
      "metadata": {
        "id": "cxUca-LSPeuE"
      },
      "source": [
        "#### 74. Given an array C that is a bincount, how to produce an array A such that np.bincount(A) == C? (★★★) \n",
        "(**hint**: np.repeat)"
      ]
    },
    {
      "cell_type": "code",
      "execution_count": 74,
      "metadata": {
        "id": "xnrbtBN1PeuE",
        "colab": {
          "base_uri": "https://localhost:8080/"
        },
        "outputId": "6d94cc85-7828-4d18-ca9e-beac7829260f"
      },
      "outputs": [
        {
          "output_type": "stream",
          "name": "stdout",
          "text": [
            "[1 1 2 3 4 4 6]\n"
          ]
        }
      ],
      "source": [
        "c = np.bincount([1,1,2,3,4,4,6])\n",
        "arr = np.repeat(np.arange(len(c)),c)\n",
        "print(arr)"
      ]
    },
    {
      "cell_type": "markdown",
      "metadata": {
        "id": "HqmVXT4YPeuE"
      },
      "source": [
        "#### 75. How to compute averages using a sliding window over an array? (★★★) \n",
        "(**hint**: np.cumsum)"
      ]
    },
    {
      "cell_type": "code",
      "execution_count": 75,
      "metadata": {
        "id": "m0fyLXKtPeuE",
        "colab": {
          "base_uri": "https://localhost:8080/"
        },
        "outputId": "ea9a5046-db38-4910-9659-ffa2a5563ced"
      },
      "outputs": [
        {
          "output_type": "stream",
          "name": "stdout",
          "text": [
            "[ 1.  2.  3.  4.  5.  6.  7.  8.  9. 10. 11. 12. 13. 14. 15. 16. 17. 18.]\n"
          ]
        }
      ],
      "source": [
        "def movingAverage(arr, n=3) :\n",
        "  ret = np.cumsum(arr, dtype=float)\n",
        "  ret[n:] = ret[n:] - ret[:-n]\n",
        "  return ret[n - 1:] / n\n",
        "\n",
        "arr = np.arange(20)\n",
        "print(movingAverage(arr,n=3))"
      ]
    },
    {
      "cell_type": "markdown",
      "metadata": {
        "id": "8invi34IPeuE"
      },
      "source": [
        "#### 76. Consider a one-dimensional array Z, build a two-dimensional array whose first row is (Z\\[0\\],Z\\[1\\],Z\\[2\\]) and each subsequent row is  shifted by 1 (last row should be (Z\\[-3\\],Z\\[-2\\],Z\\[-1\\]) (★★★) \n",
        "(**hint**: from numpy.lib import stride_tricks)"
      ]
    },
    {
      "cell_type": "code",
      "execution_count": 76,
      "metadata": {
        "id": "Shz1BrdOPeuF",
        "colab": {
          "base_uri": "https://localhost:8080/"
        },
        "outputId": "91a3071f-0527-4d48-fc3d-9f741ca87217"
      },
      "outputs": [
        {
          "output_type": "stream",
          "name": "stdout",
          "text": [
            "[[0 1 2]\n",
            " [1 2 3]\n",
            " [2 3 4]\n",
            " [3 4 5]\n",
            " [4 5 6]\n",
            " [5 6 7]\n",
            " [6 7 8]\n",
            " [7 8 9]]\n"
          ]
        }
      ],
      "source": [
        "from numpy.lib import stride_tricks\n",
        "\n",
        "def rollingWindow(a, window):\n",
        "    shape = (a.size - window + 1, window)\n",
        "    strides = (a.itemsize, a.itemsize)\n",
        "    return stride_tricks.as_strided(a, shape=shape, strides=strides)\n",
        "\n",
        "arr = rollingWindow(np.arange(10), 3)\n",
        "print(arr)"
      ]
    },
    {
      "cell_type": "markdown",
      "metadata": {
        "id": "Ivj-bNp9PeuF"
      },
      "source": [
        "#### 77. How to negate a boolean, or to change the sign of a float inplace? (★★★) \n",
        "(**hint**: np.logical_not, np.negative)"
      ]
    },
    {
      "cell_type": "code",
      "execution_count": 77,
      "metadata": {
        "id": "EeFdADdVPeuF",
        "colab": {
          "base_uri": "https://localhost:8080/"
        },
        "outputId": "9f449b64-7493-47ca-a987-283ea0c2d940"
      },
      "outputs": [
        {
          "output_type": "execute_result",
          "data": {
            "text/plain": [
              "array([ 0.52905393,  0.42107284, -0.76354934, -0.80901708,  0.49592295,\n",
              "        0.63933991,  0.1567618 ,  0.18375471, -0.5233234 ,  0.8207532 ,\n",
              "        0.03761326,  0.18632874,  0.8628112 , -0.85651411,  0.52529165,\n",
              "        0.71437317, -0.63889336,  0.22896607, -0.7367397 , -0.18123019,\n",
              "       -0.16182971,  0.04459591,  0.12628384, -0.33238553,  0.24885403,\n",
              "       -0.98951851, -0.98680189, -0.97383328,  0.62780719, -0.78241694,\n",
              "        0.31700783,  0.05548603,  0.39883439, -0.58077717, -0.45265749,\n",
              "       -0.65179339,  0.18014697,  0.48771865, -0.66361022,  0.20631877,\n",
              "        0.62704901, -0.13526876, -0.26951389,  0.93486069,  0.54977074,\n",
              "        0.48848836,  0.43214725, -0.34685544,  0.4045689 , -0.9292982 ,\n",
              "        0.79160395,  0.81702837, -0.34810745, -0.06492704, -0.2630089 ,\n",
              "        0.98839121, -0.37075999,  0.79620989,  0.08467032,  0.72446044,\n",
              "       -0.73443998,  0.778809  , -0.70855879,  0.86643965,  0.41453897,\n",
              "       -0.30422962, -0.43050805,  0.56878721,  0.02149214,  0.88554837,\n",
              "       -0.48425672, -0.27469849, -0.34699721, -0.60971805, -0.43757753,\n",
              "        0.91910217, -0.01555332, -0.13242213, -0.90129816,  0.50687131,\n",
              "       -0.9834138 ,  0.17354721, -0.07301177,  0.10337043, -0.34417248,\n",
              "       -0.47812874,  0.12841533, -0.29848933,  0.17824699, -0.522049  ,\n",
              "        0.76814212, -0.73846378, -0.57999617, -0.10595929,  0.72571658,\n",
              "        0.11567825, -0.95332162, -0.45981162,  0.73353023,  0.64128689])"
            ]
          },
          "metadata": {},
          "execution_count": 77
        }
      ],
      "source": [
        "arr = np.random.randint(0,2,100)\n",
        "np.logical_not(arr, out=arr)\n",
        "\n",
        "arr = np.random.uniform(-1.0,1.0,100)\n",
        "np.negative(arr, out=arr)"
      ]
    },
    {
      "cell_type": "markdown",
      "metadata": {
        "id": "vJyIyC-3PeuF"
      },
      "source": [
        "#### 78. Consider 2 sets of points P0,P1 describing lines (2d) and a point p, how to compute distance from p to each line i  (P0\\[i\\],P1\\[i\\])? (★★★)"
      ]
    },
    {
      "cell_type": "code",
      "execution_count": 78,
      "metadata": {
        "id": "t7WkseHxPeuF",
        "colab": {
          "base_uri": "https://localhost:8080/"
        },
        "outputId": "da45e83a-743f-4381-bfdc-cf39d54b0fe0"
      },
      "outputs": [
        {
          "output_type": "stream",
          "name": "stdout",
          "text": [
            "[12.80831916 16.47140697  6.30912417  3.63168865  1.00476143  0.4696029\n",
            "  4.08217895  2.76483177  7.47914434  1.78310221]\n"
          ]
        }
      ],
      "source": [
        "def distanceCalculation(P0, P1, p):\n",
        "    T = P1 - P0\n",
        "    L = (T**2).sum(axis=1)\n",
        "    U = -((P0[:,0]-p[...,0])*T[:,0] + (P0[:,1]-p[...,1])*T[:,1]) / L\n",
        "    U = U.reshape(len(U),1)\n",
        "    D = P0 + U*T - p\n",
        "    return np.sqrt((D**2).sum(axis=1))\n",
        "\n",
        "p0 = np.random.uniform(-10,10,(10,2))\n",
        "p1 = np.random.uniform(-10,10,(10,2))\n",
        "p  = np.random.uniform(-10,10,( 1,2))\n",
        "print(distanceCalculation(p0, p1, p))"
      ]
    },
    {
      "cell_type": "markdown",
      "metadata": {
        "id": "nCqpfnUYPeuF"
      },
      "source": [
        "#### 79. Consider 2 sets of points P0,P1 describing lines (2d) and a set of points P, how to compute distance from each point j (P\\[j\\]) to each line i (P0\\[i\\],P1\\[i\\])? (★★★)"
      ]
    },
    {
      "cell_type": "code",
      "execution_count": 79,
      "metadata": {
        "id": "DvuHFiQuPeuG",
        "colab": {
          "base_uri": "https://localhost:8080/"
        },
        "outputId": "ca8b8049-e639-4382-f7fc-e11ab199631a"
      },
      "outputs": [
        {
          "output_type": "stream",
          "name": "stdout",
          "text": [
            "[[ 5.59104279  4.08569467  7.20317905  3.45461463  0.82715371  3.62893517\n",
            "   0.49655403  6.21970537  2.16972118  2.85611359]\n",
            " [ 2.3945265   2.15801042  0.12906437  6.05558012  7.94729349  9.59001537\n",
            "   6.97362401  2.61368973  7.60625263  0.72126671]\n",
            " [ 3.71903464  4.04159342  4.89542422  0.75221623  2.41447024  4.85232191\n",
            "   1.2042446   4.05005421  0.54323207  2.3424779 ]\n",
            " [ 3.54232466 10.50671013  4.66480974  7.00630171  1.26639755  2.20693267\n",
            "   0.56540967  2.27641018  7.48177804  7.44962602]\n",
            " [ 2.33183443 14.71985511 12.28251797 13.67345469  1.44180881  1.18780771\n",
            "   1.14106579  0.15517152 13.6174782  10.49784926]\n",
            " [13.23246539 12.16333346  5.21821205  5.32554988  7.236647    4.73529447\n",
            "   8.41498772 13.16086994  5.08596907 11.2466792 ]\n",
            " [ 2.06255976  3.00743352 12.9766312   6.49154102  5.22542382  8.92648899\n",
            "   3.57542067  3.83017173  4.29716557  3.69857844]\n",
            " [ 0.45031495 10.18621352  8.11890395 11.18263026  3.937866    4.33330015\n",
            "   3.40523301  1.24716111 11.70696808  6.40388434]\n",
            " [ 5.24692187  9.54455466  1.11597792  3.38303791  0.02212292  1.52070516\n",
            "   0.85943719  4.49509928  3.97609939  7.11854401]\n",
            " [ 5.8103236   3.27718225  3.3928858   4.77586703 11.91792153 14.10750872\n",
            "  10.73868223  5.27403594  7.02532676  5.92587942]]\n"
          ]
        }
      ],
      "source": [
        "p0 = np.random.uniform(-10, 10, (10,2))\n",
        "p1 = np.random.uniform(-10,10,(10,2))\n",
        "p = np.random.uniform(-10, 10, (10,2))\n",
        "print(np.array([distanceCalculation(p0,p1,p_i) for p_i in p]))"
      ]
    },
    {
      "cell_type": "markdown",
      "metadata": {
        "id": "FzLhyn_yPeuG"
      },
      "source": [
        "#### 80. Consider an arbitrary array, write a function that extract a subpart with a fixed shape and centered on a given element (pad with a `fill` value when necessary) (★★★) \n",
        "(**hint**: minimum, maximum)"
      ]
    },
    {
      "cell_type": "code",
      "execution_count": 80,
      "metadata": {
        "id": "nqAy3zikPeuG",
        "colab": {
          "base_uri": "https://localhost:8080/"
        },
        "outputId": "9c4cd243-6007-42dc-bde8-2ef71879468b"
      },
      "outputs": [
        {
          "output_type": "stream",
          "name": "stdout",
          "text": [
            "[[4 2 5 4 1 4 3 9 7 7]\n",
            " [1 7 3 9 2 2 5 8 7 6]\n",
            " [8 1 9 5 7 2 3 1 7 3]\n",
            " [8 8 9 5 2 8 3 5 6 9]\n",
            " [3 8 1 1 1 9 0 7 0 5]\n",
            " [5 0 7 2 8 2 4 8 0 6]\n",
            " [7 5 1 0 6 8 5 6 8 9]\n",
            " [4 3 0 2 9 9 8 2 0 6]\n",
            " [0 5 5 3 4 5 7 8 3 1]\n",
            " [8 8 5 3 9 2 4 9 1 5]]\n",
            "[[0 0 0 0 0]\n",
            " [0 4 2 5 4]\n",
            " [0 1 7 3 9]\n",
            " [0 8 1 9 5]\n",
            " [0 8 8 9 5]]\n"
          ]
        },
        {
          "output_type": "stream",
          "name": "stderr",
          "text": [
            "/usr/local/lib/python3.7/dist-packages/ipykernel_launcher.py:23: FutureWarning: Using a non-tuple sequence for multidimensional indexing is deprecated; use `arr[tuple(seq)]` instead of `arr[seq]`. In the future this will be interpreted as an array index, `arr[np.array(seq)]`, which will result either in an error or a different result.\n"
          ]
        }
      ],
      "source": [
        "Z = np.random.randint(0,10,(10,10))\n",
        "shape = (5,5)\n",
        "fill  = 0\n",
        "position = (1,1)\n",
        "\n",
        "R = np.ones(shape, dtype=Z.dtype)*fill\n",
        "P  = np.array(list(position)).astype(int)\n",
        "Rs = np.array(list(R.shape)).astype(int)\n",
        "Zs = np.array(list(Z.shape)).astype(int)\n",
        "\n",
        "R_start = np.zeros((len(shape),)).astype(int)\n",
        "R_stop  = np.array(list(shape)).astype(int)\n",
        "Z_start = (P-Rs//2)\n",
        "Z_stop  = (P+Rs//2)+Rs%2\n",
        "\n",
        "R_start = (R_start - np.minimum(Z_start,0)).tolist()\n",
        "Z_start = (np.maximum(Z_start,0)).tolist()\n",
        "R_stop = np.maximum(R_start, (R_stop - np.maximum(Z_stop-Zs,0))).tolist()\n",
        "Z_stop = (np.minimum(Z_stop,Zs)).tolist()\n",
        "\n",
        "r = [slice(start,stop) for start,stop in zip(R_start,R_stop)]\n",
        "z = [slice(start,stop) for start,stop in zip(Z_start,Z_stop)]\n",
        "R[r] = Z[z]\n",
        "print(Z)\n",
        "print(R)"
      ]
    },
    {
      "cell_type": "markdown",
      "metadata": {
        "id": "HdNDx4UiPeuG"
      },
      "source": [
        "#### 81. Consider an array Z = \\[1,2,3,4,5,6,7,8,9,10,11,12,13,14\\], how to generate an array R = \\[\\[1,2,3,4\\], \\[2,3,4,5\\], \\[3,4,5,6\\], ..., \\[11,12,13,14\\]\\]? (★★★) \n",
        "(**hint**: stride\\_tricks.as\\_strided)"
      ]
    },
    {
      "cell_type": "code",
      "execution_count": 81,
      "metadata": {
        "id": "guSM8vM0PeuG",
        "colab": {
          "base_uri": "https://localhost:8080/"
        },
        "outputId": "46f9479f-030f-4d07-8274-30c80e333283"
      },
      "outputs": [
        {
          "output_type": "stream",
          "name": "stdout",
          "text": [
            "[[ 1  2  3  4]\n",
            " [ 2  3  4  5]\n",
            " [ 3  4  5  6]\n",
            " [ 4  5  6  7]\n",
            " [ 5  6  7  8]\n",
            " [ 6  7  8  9]\n",
            " [ 7  8  9 10]\n",
            " [ 8  9 10 11]\n",
            " [ 9 10 11 12]\n",
            " [10 11 12 13]\n",
            " [11 12 13 14]]\n"
          ]
        }
      ],
      "source": [
        "arr = np.arange(1,15,dtype=np.uint32)\n",
        "newarr = stride_tricks.as_strided(arr,(11,4),(4,4))\n",
        "print(newarr)"
      ]
    },
    {
      "cell_type": "markdown",
      "metadata": {
        "id": "NPf1MoRSPeuH"
      },
      "source": [
        "#### 82. Compute a matrix rank (★★★) \n",
        "(**hint**: np.linalg.svd) (suggestion: np.linalg.svd)"
      ]
    },
    {
      "cell_type": "code",
      "execution_count": 82,
      "metadata": {
        "id": "br7ppCDBPeuH",
        "colab": {
          "base_uri": "https://localhost:8080/"
        },
        "outputId": "eb467c8c-788b-413a-da30-55208c271e3e"
      },
      "outputs": [
        {
          "output_type": "stream",
          "name": "stdout",
          "text": [
            "10\n"
          ]
        }
      ],
      "source": [
        "arr = np.random.uniform(0,1,(10,10))\n",
        "U, S, V = np.linalg.svd(arr)\n",
        "rank = np.sum(S > 1e-10)\n",
        "print(rank)"
      ]
    },
    {
      "cell_type": "markdown",
      "metadata": {
        "id": "kPkhUk3vPeuH"
      },
      "source": [
        "#### 83. How to find the most frequent value in an array? \n",
        "(**hint**: np.bincount, argmax)"
      ]
    },
    {
      "cell_type": "code",
      "execution_count": 83,
      "metadata": {
        "id": "yMYK7sTsPeuH",
        "colab": {
          "base_uri": "https://localhost:8080/"
        },
        "outputId": "8dbe8b05-a18d-4c5d-97e4-a83e1ceb302f"
      },
      "outputs": [
        {
          "output_type": "stream",
          "name": "stdout",
          "text": [
            "8\n"
          ]
        }
      ],
      "source": [
        "arr = np.random.randint(0,10,50)\n",
        "print(np.bincount(arr).argmax())"
      ]
    },
    {
      "cell_type": "markdown",
      "metadata": {
        "id": "vtNMCuI-PeuH"
      },
      "source": [
        "#### 84. Extract all the contiguous 3x3 blocks from a random 10x10 matrix (★★★) \n",
        "(**hint**: stride\\_tricks.as\\_strided)"
      ]
    },
    {
      "cell_type": "code",
      "execution_count": 84,
      "metadata": {
        "id": "30_yvB7iPeuH",
        "colab": {
          "base_uri": "https://localhost:8080/"
        },
        "outputId": "6f957f33-90f9-4866-a671-d9715ee9455e"
      },
      "outputs": [
        {
          "output_type": "stream",
          "name": "stdout",
          "text": [
            "[[[[3 0 0]\n",
            "   [2 4 1]\n",
            "   [2 4 2]]\n",
            "\n",
            "  [[0 0 3]\n",
            "   [4 1 1]\n",
            "   [4 2 1]]\n",
            "\n",
            "  [[0 3 1]\n",
            "   [1 1 0]\n",
            "   [2 1 4]]\n",
            "\n",
            "  [[3 1 0]\n",
            "   [1 0 0]\n",
            "   [1 4 2]]\n",
            "\n",
            "  [[1 0 3]\n",
            "   [0 0 3]\n",
            "   [4 2 2]]\n",
            "\n",
            "  [[0 3 1]\n",
            "   [0 3 0]\n",
            "   [2 2 0]]\n",
            "\n",
            "  [[3 1 2]\n",
            "   [3 0 4]\n",
            "   [2 0 0]]\n",
            "\n",
            "  [[1 2 1]\n",
            "   [0 4 2]\n",
            "   [0 0 1]]]\n",
            "\n",
            "\n",
            " [[[2 4 1]\n",
            "   [2 4 2]\n",
            "   [0 1 3]]\n",
            "\n",
            "  [[4 1 1]\n",
            "   [4 2 1]\n",
            "   [1 3 2]]\n",
            "\n",
            "  [[1 1 0]\n",
            "   [2 1 4]\n",
            "   [3 2 3]]\n",
            "\n",
            "  [[1 0 0]\n",
            "   [1 4 2]\n",
            "   [2 3 4]]\n",
            "\n",
            "  [[0 0 3]\n",
            "   [4 2 2]\n",
            "   [3 4 2]]\n",
            "\n",
            "  [[0 3 0]\n",
            "   [2 2 0]\n",
            "   [4 2 1]]\n",
            "\n",
            "  [[3 0 4]\n",
            "   [2 0 0]\n",
            "   [2 1 3]]\n",
            "\n",
            "  [[0 4 2]\n",
            "   [0 0 1]\n",
            "   [1 3 3]]]\n",
            "\n",
            "\n",
            " [[[2 4 2]\n",
            "   [0 1 3]\n",
            "   [2 0 3]]\n",
            "\n",
            "  [[4 2 1]\n",
            "   [1 3 2]\n",
            "   [0 3 3]]\n",
            "\n",
            "  [[2 1 4]\n",
            "   [3 2 3]\n",
            "   [3 3 3]]\n",
            "\n",
            "  [[1 4 2]\n",
            "   [2 3 4]\n",
            "   [3 3 3]]\n",
            "\n",
            "  [[4 2 2]\n",
            "   [3 4 2]\n",
            "   [3 3 2]]\n",
            "\n",
            "  [[2 2 0]\n",
            "   [4 2 1]\n",
            "   [3 2 0]]\n",
            "\n",
            "  [[2 0 0]\n",
            "   [2 1 3]\n",
            "   [2 0 1]]\n",
            "\n",
            "  [[0 0 1]\n",
            "   [1 3 3]\n",
            "   [0 1 0]]]\n",
            "\n",
            "\n",
            " [[[0 1 3]\n",
            "   [2 0 3]\n",
            "   [3 1 4]]\n",
            "\n",
            "  [[1 3 2]\n",
            "   [0 3 3]\n",
            "   [1 4 3]]\n",
            "\n",
            "  [[3 2 3]\n",
            "   [3 3 3]\n",
            "   [4 3 2]]\n",
            "\n",
            "  [[2 3 4]\n",
            "   [3 3 3]\n",
            "   [3 2 3]]\n",
            "\n",
            "  [[3 4 2]\n",
            "   [3 3 2]\n",
            "   [2 3 1]]\n",
            "\n",
            "  [[4 2 1]\n",
            "   [3 2 0]\n",
            "   [3 1 3]]\n",
            "\n",
            "  [[2 1 3]\n",
            "   [2 0 1]\n",
            "   [1 3 2]]\n",
            "\n",
            "  [[1 3 3]\n",
            "   [0 1 0]\n",
            "   [3 2 4]]]\n",
            "\n",
            "\n",
            " [[[2 0 3]\n",
            "   [3 1 4]\n",
            "   [2 1 3]]\n",
            "\n",
            "  [[0 3 3]\n",
            "   [1 4 3]\n",
            "   [1 3 3]]\n",
            "\n",
            "  [[3 3 3]\n",
            "   [4 3 2]\n",
            "   [3 3 2]]\n",
            "\n",
            "  [[3 3 3]\n",
            "   [3 2 3]\n",
            "   [3 2 2]]\n",
            "\n",
            "  [[3 3 2]\n",
            "   [2 3 1]\n",
            "   [2 2 2]]\n",
            "\n",
            "  [[3 2 0]\n",
            "   [3 1 3]\n",
            "   [2 2 3]]\n",
            "\n",
            "  [[2 0 1]\n",
            "   [1 3 2]\n",
            "   [2 3 4]]\n",
            "\n",
            "  [[0 1 0]\n",
            "   [3 2 4]\n",
            "   [3 4 1]]]\n",
            "\n",
            "\n",
            " [[[3 1 4]\n",
            "   [2 1 3]\n",
            "   [2 0 4]]\n",
            "\n",
            "  [[1 4 3]\n",
            "   [1 3 3]\n",
            "   [0 4 4]]\n",
            "\n",
            "  [[4 3 2]\n",
            "   [3 3 2]\n",
            "   [4 4 1]]\n",
            "\n",
            "  [[3 2 3]\n",
            "   [3 2 2]\n",
            "   [4 1 0]]\n",
            "\n",
            "  [[2 3 1]\n",
            "   [2 2 2]\n",
            "   [1 0 0]]\n",
            "\n",
            "  [[3 1 3]\n",
            "   [2 2 3]\n",
            "   [0 0 4]]\n",
            "\n",
            "  [[1 3 2]\n",
            "   [2 3 4]\n",
            "   [0 4 2]]\n",
            "\n",
            "  [[3 2 4]\n",
            "   [3 4 1]\n",
            "   [4 2 1]]]\n",
            "\n",
            "\n",
            " [[[2 1 3]\n",
            "   [2 0 4]\n",
            "   [0 2 2]]\n",
            "\n",
            "  [[1 3 3]\n",
            "   [0 4 4]\n",
            "   [2 2 3]]\n",
            "\n",
            "  [[3 3 2]\n",
            "   [4 4 1]\n",
            "   [2 3 2]]\n",
            "\n",
            "  [[3 2 2]\n",
            "   [4 1 0]\n",
            "   [3 2 1]]\n",
            "\n",
            "  [[2 2 2]\n",
            "   [1 0 0]\n",
            "   [2 1 3]]\n",
            "\n",
            "  [[2 2 3]\n",
            "   [0 0 4]\n",
            "   [1 3 4]]\n",
            "\n",
            "  [[2 3 4]\n",
            "   [0 4 2]\n",
            "   [3 4 4]]\n",
            "\n",
            "  [[3 4 1]\n",
            "   [4 2 1]\n",
            "   [4 4 1]]]\n",
            "\n",
            "\n",
            " [[[2 0 4]\n",
            "   [0 2 2]\n",
            "   [0 2 3]]\n",
            "\n",
            "  [[0 4 4]\n",
            "   [2 2 3]\n",
            "   [2 3 4]]\n",
            "\n",
            "  [[4 4 1]\n",
            "   [2 3 2]\n",
            "   [3 4 2]]\n",
            "\n",
            "  [[4 1 0]\n",
            "   [3 2 1]\n",
            "   [4 2 0]]\n",
            "\n",
            "  [[1 0 0]\n",
            "   [2 1 3]\n",
            "   [2 0 2]]\n",
            "\n",
            "  [[0 0 4]\n",
            "   [1 3 4]\n",
            "   [0 2 0]]\n",
            "\n",
            "  [[0 4 2]\n",
            "   [3 4 4]\n",
            "   [2 0 4]]\n",
            "\n",
            "  [[4 2 1]\n",
            "   [4 4 1]\n",
            "   [0 4 0]]]]\n"
          ]
        }
      ],
      "source": [
        "Z = np.random.randint(0,5,(10,10))\n",
        "n = 3\n",
        "i = 1 + (Z.shape[0]-3)\n",
        "j = 1 + (Z.shape[1]-3)\n",
        "C = stride_tricks.as_strided(Z, shape=(i, j, n, n), strides=Z.strides + Z.strides)\n",
        "print(C)"
      ]
    },
    {
      "cell_type": "markdown",
      "metadata": {
        "id": "wLJzCe5hPeuI"
      },
      "source": [
        "#### 85. Create a 2D array subclass such that Z\\[i,j\\] == Z\\[j,i\\] (★★★) \n",
        "(**hint**: class method)"
      ]
    },
    {
      "cell_type": "code",
      "execution_count": 85,
      "metadata": {
        "id": "6IceadYpPeuI",
        "colab": {
          "base_uri": "https://localhost:8080/"
        },
        "outputId": "8b0bc416-d029-49e5-9aee-2c5b71a3aa0f"
      },
      "outputs": [
        {
          "output_type": "stream",
          "name": "stdout",
          "text": [
            "[[ 3  9 14 10 16]\n",
            " [ 9  9 12  4  9]\n",
            " [14 12  5 42  5]\n",
            " [10  4 42  4 10]\n",
            " [16  9  5 10  3]]\n"
          ]
        }
      ],
      "source": [
        "class Symetric(np.ndarray):\n",
        "  def __setitem__(self, index, value):\n",
        "    i,j = index\n",
        "    super(Symetric, self).__setitem__((i,j), value)\n",
        "    super(Symetric, self).__setitem__((j,i), value)\n",
        "\n",
        "def symetric(Z):\n",
        "  return np.asarray(Z + Z.T - np.diag(Z.diagonal())).view(Symetric)\n",
        "\n",
        "S = symetric(np.random.randint(0,10,(5,5)))\n",
        "S[2,3] = 42\n",
        "print(S)"
      ]
    },
    {
      "cell_type": "markdown",
      "metadata": {
        "id": "-dg22L6ZPeuI"
      },
      "source": [
        "#### 86. Consider a set of p matrices wich shape (n,n) and a set of p vectors with shape (n,1). How to compute the sum of of the p matrix products at once? (result has shape (n,1)) (★★★) \n",
        "(**hint**: np.tensordot)"
      ]
    },
    {
      "cell_type": "code",
      "execution_count": 86,
      "metadata": {
        "id": "6zH78thFPeuI",
        "colab": {
          "base_uri": "https://localhost:8080/"
        },
        "outputId": "395a291e-c26d-4902-b69b-e48fa21721dd"
      },
      "outputs": [
        {
          "output_type": "stream",
          "name": "stdout",
          "text": [
            "[[200.]\n",
            " [200.]\n",
            " [200.]\n",
            " [200.]\n",
            " [200.]\n",
            " [200.]\n",
            " [200.]\n",
            " [200.]\n",
            " [200.]\n",
            " [200.]\n",
            " [200.]\n",
            " [200.]\n",
            " [200.]\n",
            " [200.]\n",
            " [200.]\n",
            " [200.]\n",
            " [200.]\n",
            " [200.]\n",
            " [200.]\n",
            " [200.]]\n"
          ]
        }
      ],
      "source": [
        "p = 10\n",
        "n = 20\n",
        "M = np.ones((p,n,n))\n",
        "V = np.ones((p,n,1))\n",
        "S = np.tensordot(M, V, axes=[[0, 2], [0, 1]])\n",
        "print(S)"
      ]
    },
    {
      "cell_type": "markdown",
      "metadata": {
        "id": "3aTyButBPeuI"
      },
      "source": [
        "#### 87. Consider a 16x16 array, how to get the block-sum (block size is 4x4)? (★★★) \n",
        "(**hint**: np.add.reduceat)"
      ]
    },
    {
      "cell_type": "code",
      "execution_count": 87,
      "metadata": {
        "id": "ObMt_ga0PeuJ",
        "colab": {
          "base_uri": "https://localhost:8080/"
        },
        "outputId": "793e0fbc-92d2-4d05-bc51-c69deac7b2e4"
      },
      "outputs": [
        {
          "output_type": "stream",
          "name": "stdout",
          "text": [
            "[[16. 16. 16. 16.]\n",
            " [16. 16. 16. 16.]\n",
            " [16. 16. 16. 16.]\n",
            " [16. 16. 16. 16.]]\n"
          ]
        }
      ],
      "source": [
        "arr = np.ones((16,16))\n",
        "k = 4\n",
        "S = np.add.reduceat(np.add.reduceat(arr, np.arange(0, arr.shape[0], k), axis=0),\n",
        "                                       np.arange(0, arr.shape[1], k), axis=1)\n",
        "print(S)"
      ]
    },
    {
      "cell_type": "markdown",
      "metadata": {
        "id": "WYp4fxXWPeuJ"
      },
      "source": [
        "#### 88. How to implement the Game of Life using numpy arrays? (★★★)"
      ]
    },
    {
      "cell_type": "code",
      "execution_count": 87,
      "metadata": {
        "id": "sHK7YU2GPeuJ"
      },
      "outputs": [],
      "source": [
        ""
      ]
    },
    {
      "cell_type": "markdown",
      "metadata": {
        "id": "hVwPkLMnPeuJ"
      },
      "source": [
        "#### 89. How to get the n largest values of an array (★★★) \n",
        "(**hint**: np.argsort | np.argpartition)"
      ]
    },
    {
      "cell_type": "code",
      "execution_count": 88,
      "metadata": {
        "id": "OCPslb02PeuJ",
        "colab": {
          "base_uri": "https://localhost:8080/"
        },
        "outputId": "2fa2c4c0-363e-4571-9bca-cfc0f05fe0ca"
      },
      "outputs": [
        {
          "output_type": "stream",
          "name": "stdout",
          "text": [
            "[996 997 998 999]\n",
            "[999 998 997 996]\n"
          ]
        }
      ],
      "source": [
        "Z = np.arange(1000)\n",
        "np.random.shuffle(Z)\n",
        "n = 4\n",
        "print (Z[np.argsort(Z)[-n:]])\n",
        "print (Z[np.argpartition(-Z,n)[:n]])"
      ]
    },
    {
      "cell_type": "markdown",
      "metadata": {
        "id": "mlezA60wPeuJ"
      },
      "source": [
        "#### 90. Given an arbitrary number of vectors, build the cartesian product (every combinations of every item) (★★★) \n",
        "(**hint**: np.indices)"
      ]
    },
    {
      "cell_type": "code",
      "execution_count": 89,
      "metadata": {
        "scrolled": true,
        "id": "3-uEqpx4PeuJ",
        "colab": {
          "base_uri": "https://localhost:8080/"
        },
        "outputId": "ba04639f-b203-4da5-cf4f-a260b535a64e"
      },
      "outputs": [
        {
          "output_type": "stream",
          "name": "stdout",
          "text": [
            "[[1 4 6]\n",
            " [1 4 7]\n",
            " [1 5 6]\n",
            " [1 5 7]\n",
            " [2 4 6]\n",
            " [2 4 7]\n",
            " [2 5 6]\n",
            " [2 5 7]\n",
            " [3 4 6]\n",
            " [3 4 7]\n",
            " [3 5 6]\n",
            " [3 5 7]]\n"
          ]
        }
      ],
      "source": [
        "def cartesianProduct(arrays):\n",
        "  arrays = [np.asarray(a) for a in arrays]\n",
        "  shape = (len(x) for x in arrays)\n",
        "  ix = np.indices(shape, dtype=int)\n",
        "  ix = ix.reshape(len(arrays), -1).T\n",
        "  for n, arr in enumerate(arrays):\n",
        "    ix[:, n] = arrays[n][ix[:, n]]\n",
        "  return ix\n",
        "\n",
        "print(cartesianProduct(([1, 2, 3], [4, 5], [6, 7])))"
      ]
    },
    {
      "cell_type": "markdown",
      "metadata": {
        "id": "6gTvUtnOPeuJ"
      },
      "source": [
        "#### 91. How to create a record array from a regular array? (★★★) \n",
        "(**hint**: np.core.records.fromarrays)"
      ]
    },
    {
      "cell_type": "code",
      "execution_count": 90,
      "metadata": {
        "id": "IAm0VDuaPeuK",
        "colab": {
          "base_uri": "https://localhost:8080/"
        },
        "outputId": "2a66770c-5536-45fb-c151-88b75a715f1d"
      },
      "outputs": [
        {
          "output_type": "stream",
          "name": "stdout",
          "text": [
            "[(b'Hello', 2.5, 3) (b'World', 3.6, 2)]\n"
          ]
        }
      ],
      "source": [
        "Z = np.array([(\"Hello\", 2.5, 3),(\"World\", 3.6, 2)])\n",
        "R = np.core.records.fromarrays(Z.T,names='col1, col2, col3',formats = 'S8, f8, i8')\n",
        "print(R)"
      ]
    },
    {
      "cell_type": "markdown",
      "metadata": {
        "id": "IW_Ve_CzPeuK"
      },
      "source": [
        "#### 92. Consider a large vector Z, compute Z to the power of 3 using 3 different methods (★★★) \n",
        "(**hint**: np.power, \\*, np.einsum)"
      ]
    },
    {
      "cell_type": "code",
      "execution_count": 91,
      "metadata": {
        "id": "__La-w0GPeuK",
        "colab": {
          "base_uri": "https://localhost:8080/"
        },
        "outputId": "e34d2fed-ee00-4994-bacd-b87b480c31a0"
      },
      "outputs": [
        {
          "output_type": "stream",
          "name": "stdout",
          "text": [
            "Error: Only accepts integer values\n"
          ]
        }
      ],
      "source": [
        "num = 5e-7\n",
        "num = 10\n",
        "x = np.random.rand(num)\n",
        "try:\n",
        "  %timeit np.power(int(x),3)\n",
        "  %timeit x*x*x\n",
        "  %timeit np.einsum('i,i,i->i',x,x,x)\n",
        "except:\n",
        "  print(\"Error: Only accepts integer values\")"
      ]
    },
    {
      "cell_type": "markdown",
      "metadata": {
        "id": "HEANcfOHPeuK"
      },
      "source": [
        "#### 93. Consider two arrays A and B of shape (8,3) and (2,2). How to find rows of A that contain elements of each row of B regardless of the order of the elements in B? (★★★) \n",
        "(**hint**: np.where)"
      ]
    },
    {
      "cell_type": "code",
      "execution_count": 92,
      "metadata": {
        "id": "fmIBiPqrPeuK",
        "colab": {
          "base_uri": "https://localhost:8080/"
        },
        "outputId": "864aae58-53c0-4b7f-810a-6806dc559ca2"
      },
      "outputs": [
        {
          "output_type": "stream",
          "name": "stdout",
          "text": [
            "[2 4 6]\n"
          ]
        }
      ],
      "source": [
        "A = np.random.randint(0,5,(8,3))\n",
        "B = np.random.randint(0,5,(2,2))\n",
        "C = (A[..., np.newaxis, np.newaxis] == B)\n",
        "rows = np.where(C.any((3,1)).all(1))[0]\n",
        "print(rows)"
      ]
    },
    {
      "cell_type": "markdown",
      "metadata": {
        "id": "De1dVR7TPeuK"
      },
      "source": [
        "#### 94. Considering a 10x3 matrix, extract rows with unequal values (e.g. \\[2,2,3\\]) (★★★)"
      ]
    },
    {
      "cell_type": "code",
      "execution_count": 93,
      "metadata": {
        "id": "oV12FrrFPeuK",
        "colab": {
          "base_uri": "https://localhost:8080/"
        },
        "outputId": "4e5d180b-cd2d-4fe9-dae2-ab255ff8ddb8"
      },
      "outputs": [
        {
          "output_type": "stream",
          "name": "stdout",
          "text": [
            "[[3 4 2]\n",
            " [3 3 3]\n",
            " [0 3 0]\n",
            " [0 0 3]\n",
            " [0 2 1]\n",
            " [3 2 0]\n",
            " [4 1 1]\n",
            " [3 0 0]\n",
            " [1 2 0]\n",
            " [4 2 3]]\n",
            "[[3 4 2]\n",
            " [0 3 0]\n",
            " [0 0 3]\n",
            " [0 2 1]\n",
            " [3 2 0]\n",
            " [4 1 1]\n",
            " [3 0 0]\n",
            " [1 2 0]\n",
            " [4 2 3]]\n",
            "[[3 4 2]\n",
            " [0 3 0]\n",
            " [0 0 3]\n",
            " [0 2 1]\n",
            " [3 2 0]\n",
            " [4 1 1]\n",
            " [3 0 0]\n",
            " [1 2 0]\n",
            " [4 2 3]]\n"
          ]
        }
      ],
      "source": [
        "Z = np.random.randint(0,5,(10,3))\n",
        "print(Z)\n",
        "E = np.all(Z[:,1:] == Z[:,:-1], axis=1)\n",
        "U = Z[~E]\n",
        "print(U)\n",
        "U = Z[Z.max(axis=1) != Z.min(axis=1),:]\n",
        "print(U)"
      ]
    },
    {
      "cell_type": "markdown",
      "metadata": {
        "id": "S0r05t1cPeuK"
      },
      "source": [
        "#### 95. Convert a vector of ints into a matrix binary representation (★★★) \n",
        "(**hint**: np.unpackbits)"
      ]
    },
    {
      "cell_type": "code",
      "execution_count": 94,
      "metadata": {
        "id": "wccsdEvGPeuK",
        "colab": {
          "base_uri": "https://localhost:8080/"
        },
        "outputId": "a4ad412c-f98b-4204-97c7-9d786d26eaeb"
      },
      "outputs": [
        {
          "output_type": "stream",
          "name": "stdout",
          "text": [
            "[[0 0 0 0 0 0 0 0]\n",
            " [0 0 0 0 0 0 0 1]\n",
            " [0 0 0 0 0 0 1 0]\n",
            " [0 0 0 0 0 0 1 1]\n",
            " [0 0 0 0 1 1 1 1]\n",
            " [0 0 0 1 0 0 0 0]\n",
            " [0 0 1 0 0 0 0 0]\n",
            " [0 1 0 0 0 0 0 0]\n",
            " [1 0 0 0 0 0 0 0]]\n",
            "[[0 0 0 0 0 0 0 0]\n",
            " [0 0 0 0 0 0 0 1]\n",
            " [0 0 0 0 0 0 1 0]\n",
            " [0 0 0 0 0 0 1 1]\n",
            " [0 0 0 0 1 1 1 1]\n",
            " [0 0 0 1 0 0 0 0]\n",
            " [0 0 1 0 0 0 0 0]\n",
            " [0 1 0 0 0 0 0 0]\n",
            " [1 0 0 0 0 0 0 0]]\n"
          ]
        }
      ],
      "source": [
        "I = np.array([0, 1, 2, 3, 15, 16, 32, 64, 128])\n",
        "B = ((I.reshape(-1,1) & (2**np.arange(8))) != 0).astype(int)\n",
        "print(B[:,::-1])\n",
        "I = np.array([0, 1, 2, 3, 15, 16, 32, 64, 128], dtype=np.uint8)\n",
        "print(np.unpackbits(I[:, np.newaxis], axis=1))"
      ]
    },
    {
      "cell_type": "markdown",
      "metadata": {
        "id": "9kE57XjgPeuL"
      },
      "source": [
        "#### 96. Given a two dimensional array, how to extract unique rows? (★★★) \n",
        "(**hint**: np.ascontiguousarray)"
      ]
    },
    {
      "cell_type": "code",
      "execution_count": 95,
      "metadata": {
        "id": "mAjtA6ZkPeuL",
        "colab": {
          "base_uri": "https://localhost:8080/"
        },
        "outputId": "42fd43dc-fd4f-4ebb-fad7-2eff184f3b1d"
      },
      "outputs": [
        {
          "output_type": "stream",
          "name": "stdout",
          "text": [
            "[[0 0 1]\n",
            " [1 1 0]]\n"
          ]
        }
      ],
      "source": [
        "Z = np.random.randint(0,2,(6,3))\n",
        "T = np.ascontiguousarray(Z).view(np.dtype((np.void, Z.dtype.itemsize * Z.shape[1])))\n",
        "_, idx = np.unique(T, return_index=True)\n",
        "uZ = Z[idx]\n",
        "print(uZ)"
      ]
    },
    {
      "cell_type": "markdown",
      "metadata": {
        "id": "jNJtR0ApPeuL"
      },
      "source": [
        "#### 97. Considering 2 vectors A & B, write the einsum equivalent of inner, outer, sum, and mul function (★★★) \n",
        "(**hint**: np.einsum)"
      ]
    },
    {
      "cell_type": "code",
      "execution_count": 96,
      "metadata": {
        "id": "7cGVCQEMPeuL",
        "colab": {
          "base_uri": "https://localhost:8080/"
        },
        "outputId": "1c74fd93-30eb-4bcf-e629-dda66d6942d8"
      },
      "outputs": [
        {
          "output_type": "execute_result",
          "data": {
            "text/plain": [
              "array([[0.07086192, 0.10825835, 0.01552354, 0.1449746 , 0.07772447,\n",
              "        0.06184554, 0.05352744, 0.07588112, 0.06336706, 0.11316299],\n",
              "       [0.34723971, 0.53049079, 0.07606889, 0.71040885, 0.38086777,\n",
              "        0.30305736, 0.26229677, 0.37183493, 0.31051317, 0.55452467],\n",
              "       [0.14556584, 0.22238625, 0.03188873, 0.29780943, 0.15966301,\n",
              "        0.12704422, 0.10995704, 0.15587636, 0.13016976, 0.23246146],\n",
              "       [0.35904851, 0.54853152, 0.07865582, 0.73456817, 0.39382018,\n",
              "        0.31336362, 0.27121686, 0.38448016, 0.32107299, 0.57338274],\n",
              "       [0.28227411, 0.43124047, 0.06183705, 0.57749739, 0.30961064,\n",
              "        0.2463579 , 0.21322327, 0.30226777, 0.25241879, 0.45077781],\n",
              "       [0.32811783, 0.50127759, 0.07187991, 0.67128788, 0.35989404,\n",
              "        0.28636852, 0.24785255, 0.35135863, 0.29341376, 0.52398797],\n",
              "       [0.0417796 , 0.06382821, 0.00915255, 0.08547581, 0.0458257 ,\n",
              "        0.03646361, 0.03155933, 0.04473887, 0.03736069, 0.06671995],\n",
              "       [0.3223516 , 0.49246831, 0.07061672, 0.6594909 , 0.35356939,\n",
              "        0.28133598, 0.24349687, 0.34518398, 0.28825741, 0.51477959],\n",
              "       [0.03639549, 0.05560271, 0.00797306, 0.0744606 , 0.03992017,\n",
              "        0.03176457, 0.0274923 , 0.0389734 , 0.03254604, 0.0581218 ],\n",
              "       [0.07220011, 0.11030274, 0.01581669, 0.14771235, 0.07919225,\n",
              "        0.06301345, 0.05453827, 0.07731409, 0.06456371, 0.11530001]])"
            ]
          },
          "metadata": {},
          "execution_count": 96
        }
      ],
      "source": [
        "A = np.random.uniform(0,1,10)\n",
        "B = np.random.uniform(0,1,10)\n",
        "np.einsum('i->', A)      \n",
        "np.einsum('i,i->i', A, B) \n",
        "np.einsum('i,i', A, B)\n",
        "np.einsum('i,j->ij', A, B) "
      ]
    },
    {
      "cell_type": "markdown",
      "metadata": {
        "id": "iab9o9WEPeuL"
      },
      "source": [
        "#### 98. Considering a path described by two vectors (X,Y), how to sample it using equidistant samples (★★★)? \n",
        "(**hint**: np.cumsum, np.interp)"
      ]
    },
    {
      "cell_type": "code",
      "execution_count": 97,
      "metadata": {
        "collapsed": true,
        "id": "uA7DeZcxPeuL"
      },
      "outputs": [],
      "source": [
        "phi = np.arange(0, 10*np.pi, 0.1)\n",
        "a = 1\n",
        "x = a*phi*np.cos(phi)\n",
        "y = a*phi*np.sin(phi)\n",
        "dr = (np.diff(x)**2 + np.diff(y)**2)**.5\n",
        "r = np.zeros_like(x)\n",
        "r[1:] = np.cumsum(dr) \n",
        "r_int = np.linspace(0, r.max(), 200)\n",
        "x_int = np.interp(r_int, r, x)\n",
        "y_int = np.interp(r_int, r, y)"
      ]
    },
    {
      "cell_type": "markdown",
      "metadata": {
        "id": "DaMyrIWnPeuL"
      },
      "source": [
        "#### 99. Given an integer n and a 2D array X, select from X the rows which can be interpreted as draws from a multinomial distribution with n degrees, i.e., the rows which only contain integers and which sum to n. (★★★) \n",
        "(**hint**: np.logical\\_and.reduce, np.mod)"
      ]
    },
    {
      "cell_type": "code",
      "execution_count": 98,
      "metadata": {
        "id": "klkkZr3LPeuL",
        "colab": {
          "base_uri": "https://localhost:8080/"
        },
        "outputId": "e8fe9823-ca6a-4aee-e4d4-0763f6d8a734"
      },
      "outputs": [
        {
          "output_type": "stream",
          "name": "stdout",
          "text": [
            "[[2. 0. 1. 1.]]\n"
          ]
        }
      ],
      "source": [
        "X = np.asarray([[1.0, 0.0, 3.0, 8.0],\n",
        "                [2.0, 0.0, 1.0, 1.0],\n",
        "                [1.5, 2.5, 1.0, 0.0]])\n",
        "n = 4\n",
        "M = np.logical_and.reduce(np.mod(X, 1) == 0, axis=-1)\n",
        "M &= (X.sum(axis=-1) == n)\n",
        "print(X[M])"
      ]
    },
    {
      "cell_type": "markdown",
      "metadata": {
        "id": "i9lRQluwPeuL"
      },
      "source": [
        "#### 100. Compute bootstrapped 95% confidence intervals for the mean of a 1D array X (i.e., resample the elements of an array with replacement N times, compute the mean of each sample, and then compute percentiles over the means). (★★★) \n",
        "(**hint**: np.percentile)"
      ]
    },
    {
      "cell_type": "code",
      "execution_count": 99,
      "metadata": {
        "id": "WHjwutPWPeuL",
        "colab": {
          "base_uri": "https://localhost:8080/"
        },
        "outputId": "4c495e03-4c42-4b38-aced-bfb481c3aff8"
      },
      "outputs": [
        {
          "output_type": "stream",
          "name": "stdout",
          "text": [
            "[0.01251295 0.32826117]\n"
          ]
        }
      ],
      "source": [
        "X = np.random.randn(100) # random 1D array\n",
        "N = 1000 # number of bootstrap samples\n",
        "idx = np.random.randint(0, X.size, (N, X.size))\n",
        "means = X[idx].mean(axis=1)\n",
        "confint = np.percentile(means, [2.5, 97.5])\n",
        "print(confint)"
      ]
    },
    {
      "cell_type": "markdown",
      "source": [
        "Reference: https://www.kaggle.com/code/utsav15/100-numpy-exercises/notebook"
      ],
      "metadata": {
        "id": "N-ertp2cteiM"
      }
    }
  ],
  "metadata": {
    "kernelspec": {
      "display_name": "Python 3",
      "language": "python",
      "name": "python3"
    },
    "language_info": {
      "codemirror_mode": {
        "name": "ipython",
        "version": 3
      },
      "file_extension": ".py",
      "mimetype": "text/x-python",
      "name": "python",
      "nbconvert_exporter": "python",
      "pygments_lexer": "ipython3",
      "version": "3.8.3"
    },
    "colab": {
      "name": "Numpy_tasks.ipynb",
      "provenance": [],
      "collapsed_sections": []
    }
  },
  "nbformat": 4,
  "nbformat_minor": 0
}